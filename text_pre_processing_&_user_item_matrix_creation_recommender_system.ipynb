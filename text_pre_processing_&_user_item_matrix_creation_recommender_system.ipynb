{
  "nbformat": 4,
  "nbformat_minor": 0,
  "metadata": {
    "kernelspec": {
      "display_name": "Python 3",
      "language": "python",
      "name": "python3"
    },
    "language_info": {
      "codemirror_mode": {
        "name": "ipython",
        "version": 3
      },
      "file_extension": ".py",
      "mimetype": "text/x-python",
      "name": "python",
      "nbconvert_exporter": "python",
      "pygments_lexer": "ipython3",
      "version": "3.7.4"
    },
    "colab": {
      "name": "text pre-processing & user-item matrix creation - recommender system.ipynb",
      "provenance": [],
      "collapsed_sections": []
    }
  },
  "cells": [
    {
      "cell_type": "markdown",
      "metadata": {
        "id": "sEGHrQ85BclU"
      },
      "source": [
        "# Importing libraries"
      ]
    },
    {
      "cell_type": "code",
      "metadata": {
        "id": "LogAXztbBclU"
      },
      "source": [
        "import pandas as pd\n",
        "import pickle\n",
        "import spacy\n",
        "import re\n",
        "import string\n",
        "\n",
        "from nltk.corpus import stopwords \n",
        "from nltk.tokenize import word_tokenize \n",
        "  \n",
        "from glob import glob\n",
        "\n",
        "from nltk.stem import WordNetLemmatizer\n",
        "\n",
        "\n",
        "import pandas as pd\n",
        "from sklearn.feature_extraction import text\n",
        "from sklearn.feature_extraction.text import CountVectorizer\n",
        "import nltk\n",
        "from nltk.corpus import stopwords\n",
        "import pickle\n",
        "\n",
        "from nltk.sentiment.vader import SentimentIntensityAnalyzer"
      ],
      "execution_count": null,
      "outputs": []
    },
    {
      "cell_type": "markdown",
      "metadata": {
        "id": "CFWjYYOHBclV"
      },
      "source": [
        "# Load the Data"
      ]
    },
    {
      "cell_type": "code",
      "metadata": {
        "id": "BdZU3xJfBclV"
      },
      "source": [
        "csv_list = glob('reddit*.csv')"
      ],
      "execution_count": null,
      "outputs": []
    },
    {
      "cell_type": "code",
      "metadata": {
        "id": "8F_nB5MWBclV"
      },
      "source": [
        "csv_list"
      ],
      "execution_count": null,
      "outputs": []
    },
    {
      "cell_type": "markdown",
      "metadata": {
        "id": "tV0RUhu_BclV"
      },
      "source": [
        "# Data Cleaning"
      ]
    },
    {
      "cell_type": "code",
      "metadata": {
        "id": "BIkN2wU2BclV"
      },
      "source": [
        "wordnet_lemmatizer = WordNetLemmatizer()"
      ],
      "execution_count": null,
      "outputs": []
    },
    {
      "cell_type": "code",
      "metadata": {
        "id": "YQPt2249BclV"
      },
      "source": [
        "add_stop_words = ['like', 'im', 'know', 'just', 'thats', 'right', 'people',\n",
        "                  'youre', 'got', 'gonna', 'time', 'think', 'yeah', 'said', 'your', 'you', 'than',\n",
        "                 'rskincareaddiction']\n",
        "\n",
        "stops = stopwords.words('english')\n",
        "for item in add_stop_words:\n",
        "    stops.append(item)"
      ],
      "execution_count": null,
      "outputs": []
    },
    {
      "cell_type": "code",
      "metadata": {
        "id": "he719aNYBclV"
      },
      "source": [
        "words = stops\n",
        "\n",
        "def remove_stopwords(text):\n",
        "    text = str(text)\n",
        "    text = text.lower()\n",
        "    split_text = text.split(\" \")\n",
        "    clean_text = [w for w in split_text if not w in words]\n",
        "    \n",
        "    return ' '.join(clean_text)\n",
        "    "
      ],
      "execution_count": null,
      "outputs": []
    },
    {
      "cell_type": "code",
      "metadata": {
        "id": "LHQFdVIiBclW"
      },
      "source": [
        "def clean_reviews(text):\n",
        "    \n",
        "    text = remove_stopwords(text)\n",
        "    text = re.sub('http://\\S+|https://\\S+', '', text)\n",
        "    text = re.sub('\\n\\n', '', text)\n",
        "    text = re.sub('\\n', '', text)\n",
        "    text = re.sub('��', '', text)\n",
        "    text = re.sub('❤️', '', text)\n",
        "    text = re.sub('☹️', '', text)\n",
        "    text = re.sub('☺️', '', text)\n",
        "    text = re.sub('✊', '', text)\n",
        "    text = re.sub('☀️', '', text)\n",
        "    text = re.sub(' ͡° ͜ʖ ͡°','', text)\n",
        "    text = re.sub('♥️♥️', '', text)\n",
        "    text = re.sub('♥️', '', text)\n",
        "    text = re.sub('✌', '', text)\n",
        "    text = re.sub('❤', '', text)\n",
        "    text = re.sub('✨', '', text)\n",
        "    text = re.sub('\\n\\n\\n\\n', '', text)\n",
        "    text = text.translate(str.maketrans('', '', string.punctuation))\n",
        "    text = text.translate(str.maketrans('','','’“•–'))\n",
        "    text = remove_stopwords(text)\n",
        "    text = wordnet_lemmatizer.lemmatize(text)\n",
        "    \n",
        "        \n",
        "    return text\n",
        "\n",
        "\n",
        "\n"
      ],
      "execution_count": null,
      "outputs": []
    },
    {
      "cell_type": "code",
      "metadata": {
        "id": "Nf6Vz9-sBclW"
      },
      "source": [
        "def automate(csv_list,):\n",
        "    all_reviews = []\n",
        "    for file in csv_list:\n",
        "        df = pd.read_csv(file)\n",
        "        df = df.drop(columns=['subreddit','created_utc'])\n",
        "                df = df.drop(df[df['author'] == 'AutoModerator'].index) \n",
        "        df = df.drop(df[df['author'] == 'sunscreenpuppy'].index)\n",
        "        df = df.drop(df[(df['author'] == 'removed') & (df['author'] == 'deleted')].index)\n",
        "        df = df.drop(df[df['body'] == 'removed'].index)\n",
        "        df = df.drop(df[df['body'] == 'deleted'].index)\n",
        "        \n",
        "       \n",
        "        review_data = df.drop(columns=['author'])\n",
        "        \n",
        "        review_data['clean_review'] = review_data['body'].apply(lambda x: clean_reviews(x))\n",
        "        \n",
        "        cleaned_reviews = list(review_data['clean_review'])\n",
        "        \n",
        "        all_reviews.append(cleaned_reviews)\n",
        "        \n",
        "    return all_reviews       "
      ],
      "execution_count": null,
      "outputs": []
    },
    {
      "cell_type": "code",
      "metadata": {
        "id": "8y1Ch1ROBclW"
      },
      "source": [
        "all_reviews = automate(csv_list)"
      ],
      "execution_count": null,
      "outputs": []
    },
    {
      "cell_type": "code",
      "metadata": {
        "id": "IZqM4H3mBclW"
      },
      "source": [
        "pd.to_pickle(all_reviews, 'all_reviews.pkl')"
      ],
      "execution_count": null,
      "outputs": []
    },
    {
      "cell_type": "markdown",
      "metadata": {
        "id": "asUWqR1IBclW"
      },
      "source": [
        "# Matching"
      ]
    },
    {
      "cell_type": "code",
      "metadata": {
        "id": "Kv-k3sj5BclW"
      },
      "source": [
        "data = pd.read_pickle('all_reviews.pkl')"
      ],
      "execution_count": null,
      "outputs": []
    },
    {
      "cell_type": "code",
      "metadata": {
        "id": "xZIqCRG9BclW"
      },
      "source": [
        "len(data)"
      ],
      "execution_count": null,
      "outputs": []
    },
    {
      "cell_type": "code",
      "metadata": {
        "id": "kM80WQk7BclW"
      },
      "source": [
        "data"
      ],
      "execution_count": null,
      "outputs": []
    },
    {
      "cell_type": "code",
      "metadata": {
        "id": "7LIVWoluBcle"
      },
      "source": [
        "skincare_ingredients = pd.read_pickle('skincare_ingrednts.pkl')\n",
        "product_names = pd.read_pickle('product_names.pkl')"
      ],
      "execution_count": null,
      "outputs": []
    },
    {
      "cell_type": "code",
      "metadata": {
        "id": "IB_Vni_tBcle"
      },
      "source": [
        "product_names.remove( 'Cleanser ')\n",
        "skincare_ingredients.remove('acid')\n",
        "skincare_ingredients.remove('water')"
      ],
      "execution_count": null,
      "outputs": []
    },
    {
      "cell_type": "code",
      "metadata": {
        "id": "lR5XfHJJBclf"
      },
      "source": [
        "skin_type = ['oily', 'dry', 'combination', 'normal', 'sensitive', 'acne', \n",
        "             'hyperpigmentation', 'anti-aging', 'discolouration', 'breakout']"
      ],
      "execution_count": null,
      "outputs": []
    },
    {
      "cell_type": "code",
      "metadata": {
        "id": "ntWGZeKFBclf"
      },
      "source": [
        "extend_ingredients = ['ha', 'aha', 'bha','vit c', 'snail cream', \n",
        "                      'retinoid', 'aza', \n",
        "                      'retin-a', 'aloe', 'accutane', 'tret']\n",
        "extend_products = ['to', 'cetaphil', 'cerave cream', 'cerave pm', \n",
        "              'cetaphil non-soap bar','The ordinary’s 10 niacinamide solution', \n",
        "              'Paula’s Choice skin perfecting 2 BHA', 'Cetaphil moisturizing lotion',\n",
        "              'Cetaphil oil control 30 spf moisturizing sunscreen PM', 'cerave foaming facial cleanser',\n",
        "              'Cetaphil moisturizing cream',\n",
        "              'the ordinary cold pressed rosehip oil',\n",
        "              'the ordinary 5 lactic acid solution',\n",
        "              'inkey list under eye caffeine treatment',\n",
        "              'Hada Labo premium lotion',\n",
        "              'TO Niacinamide',\n",
        "                'to niacinamide + zinc'\n",
        "              'Hada Labo sunscreen',\n",
        "              'cosrx snail mucin',\n",
        "              'Cerave healing ointment',\n",
        "              'cosrx snail essence',\n",
        "              'Cerave Resurfacing Retinol',\n",
        "              'Paula Choice 2 BHA',\n",
        "              'Cerave Salicylic Acid Renewal Cleanser',\n",
        "              'La Roche Posay Toleriane Gentle Cleanser',\n",
        "              'Ole Henriksen Vitamin C eye cream',\n",
        "              'Ole Henriksen Vitamin C moisturizer',\n",
        "              'Aveeno Positively Radiant SPF 3',\n",
        "              'TO glycolic acid toner',\n",
        "              'Kose Softymo Deep Cleansing Oil',\n",
        "              'Stridex',\n",
        "              'Neutrogena hydro boost gel cream ',\n",
        "                'Neutrogena hydro boost cream',\n",
        "                   'Neutogena hydro boost'\n",
        "              'Trader Joes ultra moisturizing hand cream',\n",
        "              'cerave',\n",
        "              'Burt bees',\n",
        "              'PAULAS CHOICE HYALURONIC ACID BOOSTER',\n",
        "              'First Aid Beauty Coconut Water Cream',\n",
        "              'The Body Shop Tea Tree Oil',\n",
        "              'Truly Super Matcha cleanser',\n",
        "              'Truly Mary Jane Glow serum',\n",
        "              'Cerave Skin Renewing Vitamin C Serum',\n",
        "              'Simple Hydrating Gel Cream',\n",
        "              'Hydrocortisone 1 cream',\n",
        "              'Simple Micellar Facial Gel Wash',\n",
        "              'instaNatural Retinol Serum',\n",
        "              'Purito Centella Green Level Buffet Serum',\n",
        "              'Stratia Liquid Gold',\n",
        "              'EltaMD',\n",
        "              'COSRX Low pH Good Morning Gel Cleanser',\n",
        "              'Dr. Jart+ Ceramidin Cream',\n",
        "              'COSRX Honey Ceramide Full Moisture Cream',\n",
        "              'Dear Klairs Soft Airy UV Essence SPF',\n",
        "              'Glow Recipe Avocado Eye Mask',\n",
        "              'Drunk Elephant A-Passioni Retinol Cream',\n",
        "              'Ole Henriksen Glow2O Dark Spot Toner',\n",
        "              'TO AHA 30 + BHA 2 Peeling Solution',\n",
        "              'the ordinary AHA 30 BHA 2 peeling solution',\n",
        "              'bioderma sensibio gel cleanser',\n",
        "              'bioderma micellar water',\n",
        "              'Fresh Soy Face Cleanser',\n",
        "              'Ole Henrickson Banana Bright Eye Cream',\n",
        "              'La Roche-Posay Anthelios Sunscreen',\n",
        "              'cerave Daily Moisturizing Lotion',\n",
        "              'Dr. Jart Cicapair Tiger Grass Color Correcting Treatment',\n",
        "              'Laniege Water Sleeping Mask',\n",
        "              'Olaplex Bond Maintenace Shampoo and Conditioner',\n",
        "              'Sunday Riley Vitamin C 15 Serum',\n",
        "              'Summer Fridays Overtime Mask',\n",
        "              'Biossance Gel Moisturizer',\n",
        "              'Drunk Elephant jelly cleanser',\n",
        "              'The Ordinary Niacinamide',\n",
        "              'Timeless Vitamin C 20',\n",
        "              'Mario badescu',\n",
        "              'TO Niacinamide',\n",
        "              'Cerave Foaming Cleanser',\n",
        "              'VICHY Mineral 89 serum',\n",
        "              'No7 Eye Cream',\n",
        "              'Vaseline',\n",
        "              'Australian Gold spf50',\n",
        "              'No7 Lift & Luminate Eye Cream',\n",
        "              'Retin-A Tret',\n",
        "              'The Ordinary',\n",
        "              'Inkey list Q10',\n",
        "              'TO Azelaic acid',\n",
        "              'Hada Labo Arbutin lotion',\n",
        "              'The Ordinary Natural Moisturizing Factors',\n",
        "              'TO vit C',\n",
        "              'Osma Bloc - Alum Block 75g',\n",
        "              'CE ferulic',\n",
        "              'Drunk Elephant',\n",
        "              'nars',\n",
        "              'Stratia Liquid Gold',\n",
        "              'snail mucin',\n",
        "              'Biore UV Aqua Rich Watery Essence',\n",
        "                'Cerave SPF 30',\n",
        "                'Cerave hydrating cleanser',\n",
        "                'aquafor',\n",
        "                'Neutrogena Ultra Gentle Hydrating Cleanser',\n",
        "                'tatcha water cream',\n",
        "                'cosrx 96 snail mucin',\n",
        "                'Thayer Witch Hazel Toner',\n",
        "                'LaNeige Water Bank Essence',\n",
        "                'Drunk Elephant C-Firma Day Serum',\n",
        "                'Boscia Makeup Breakup Cleansing Oil',\n",
        "                'Dr Jart Ceramidin Lotion',\n",
        "                   'ole henriksen',\n",
        "                   'shiseido sunscreen',\n",
        "                   'Ole Henriksen Truth Serum',\n",
        "                   'Ole Henriksen Banana Bright',\n",
        "                   'Olay Regenerist Retinol24',\n",
        "                   'aztec secret clay mask',\n",
        "                   'la rocheposay anthelios antishine spf50'\n",
        "                   'aztec secret clay mask',\n",
        "                   'pixi glow tonic'\n",
        "             \n",
        "]"
      ],
      "execution_count": null,
      "outputs": []
    },
    {
      "cell_type": "code",
      "metadata": {
        "id": "oMnxRJpGBclf"
      },
      "source": [
        "#extend lists\n",
        "for item in extend_ingredients:\n",
        "    skincare_ingredients.append(item)\n",
        "    \n",
        "for item in extend_products:\n",
        "    product_names.append(item)"
      ],
      "execution_count": null,
      "outputs": []
    },
    {
      "cell_type": "code",
      "metadata": {
        "id": "pclXieYdBclf"
      },
      "source": [
        "product_names = set(product_names)"
      ],
      "execution_count": null,
      "outputs": []
    },
    {
      "cell_type": "code",
      "metadata": {
        "id": "jzLi59ABBclf"
      },
      "source": [
        "def skin_match(x, match):\n",
        "    splitreview = x.split(\" \")\n",
        "    setreview = set(splitreview)\n",
        "    setmatch = set(match)\n",
        "    \n",
        "    matches = setreview.intersection(setmatch)\n",
        "    matches = list(matches)\n",
        "    \n",
        "    if len(matches) >= 1:\n",
        "        match_string = ','.join(matches)\n",
        "        return match_string\n",
        "    else:\n",
        "        return ''"
      ],
      "execution_count": null,
      "outputs": []
    },
    {
      "cell_type": "code",
      "metadata": {
        "id": "ufNWz7tCBclf"
      },
      "source": [
        "def pi_match(x, match):\n",
        "    matches = []\n",
        "    for product in match:\n",
        "        splitproduct = product.split(\" \")\n",
        "        if len(splitproduct) > 1:\n",
        "            if product.lower() in x.lower():\n",
        "                matches.append(product)\n",
        "        else:\n",
        "            splitreview = set(x.split(\" \"))\n",
        "            splitproduct = set(splitproduct)\n",
        "            \n",
        "            m = splitproduct.intersection(splitreview)\n",
        "            m = list(m)\n",
        "            if m == []:\n",
        "                continue\n",
        "            else:\n",
        "                matches.append(str(m[0]))\n",
        "            \n",
        "    \n",
        "    if len(matches) >= 1:\n",
        "        match_string = ','.join(matches)\n",
        "        return match_string\n",
        "    else:\n",
        "        return ''"
      ],
      "execution_count": null,
      "outputs": []
    },
    {
      "cell_type": "code",
      "metadata": {
        "id": "gj638lhMBclf"
      },
      "source": [
        "final_df = pd.DataFrame(columns=['review','skin_type','products','ingredients'])"
      ],
      "execution_count": null,
      "outputs": []
    },
    {
      "cell_type": "code",
      "metadata": {
        "id": "d3qHH_55Bclf"
      },
      "source": [
        "for review in data[18]:\n",
        "    review_items = []\n",
        "    review_items.append(review)\n",
        "    review_items.append(skin_match(review, skin_type))\n",
        "    review_items.append(pi_match(review, product_names))\n",
        "    review_items.append(pi_match(review, skincare_ingredients))\n",
        "\n",
        "    final_df.loc[len(final_df)] = review_items\n"
      ],
      "execution_count": null,
      "outputs": []
    },
    {
      "cell_type": "code",
      "metadata": {
        "id": "dW9J_cN0Bclf",
        "outputId": "6bfbad0c-414a-4931-c8c0-a5531870afaa"
      },
      "source": [
        "#to check how many items were matched. Just change the value in the dataframe\n",
        "\n",
        "s = list(final_df['ingredients'])\n",
        "len([i for i in s if i != ''])"
      ],
      "execution_count": null,
      "outputs": [
        {
          "output_type": "execute_result",
          "data": {
            "text/plain": [
              "14973"
            ]
          },
          "metadata": {
            "tags": []
          },
          "execution_count": 189
        }
      ]
    },
    {
      "cell_type": "markdown",
      "metadata": {
        "id": "2H2KYe_OBclg"
      },
      "source": [
        "check matches across skin, product, and ingredients. change variable name from t"
      ]
    },
    {
      "cell_type": "code",
      "metadata": {
        "id": "fsyzEfDFBclg"
      },
      "source": [
        "t = final_df[final_df['ingredients'] != '']"
      ],
      "execution_count": null,
      "outputs": []
    },
    {
      "cell_type": "code",
      "metadata": {
        "id": "YXdF4sjBBclg",
        "outputId": "cc4d5fa5-ac91-4682-c142-3e88db0b3880"
      },
      "source": [
        "t = t[final_df['skin_type'] != '']"
      ],
      "execution_count": null,
      "outputs": [
        {
          "output_type": "stream",
          "text": [
            "/opt/anaconda3/lib/python3.7/site-packages/ipykernel_launcher.py:1: UserWarning: Boolean Series key will be reindexed to match DataFrame index.\n",
            "  \"\"\"Entry point for launching an IPython kernel.\n"
          ],
          "name": "stderr"
        }
      ]
    },
    {
      "cell_type": "code",
      "metadata": {
        "id": "2OIk9d5gBclg",
        "outputId": "b8f338d4-2b52-4148-8284-8148f5962d78"
      },
      "source": [
        "t = t[final_df['products'] != '']"
      ],
      "execution_count": null,
      "outputs": [
        {
          "output_type": "stream",
          "text": [
            "/opt/anaconda3/lib/python3.7/site-packages/ipykernel_launcher.py:1: UserWarning: Boolean Series key will be reindexed to match DataFrame index.\n",
            "  \"\"\"Entry point for launching an IPython kernel.\n"
          ],
          "name": "stderr"
        }
      ]
    },
    {
      "cell_type": "code",
      "metadata": {
        "id": "L69V5IdFBclh",
        "outputId": "ff09ae1b-e274-4f03-d1af-10116994fd4f"
      },
      "source": [
        "t"
      ],
      "execution_count": null,
      "outputs": [
        {
          "output_type": "execute_result",
          "data": {
            "text/html": [
              "<div>\n",
              "<style scoped>\n",
              "    .dataframe tbody tr th:only-of-type {\n",
              "        vertical-align: middle;\n",
              "    }\n",
              "\n",
              "    .dataframe tbody tr th {\n",
              "        vertical-align: top;\n",
              "    }\n",
              "\n",
              "    .dataframe thead th {\n",
              "        text-align: right;\n",
              "    }\n",
              "</style>\n",
              "<table border=\"1\" class=\"dataframe\">\n",
              "  <thead>\n",
              "    <tr style=\"text-align: right;\">\n",
              "      <th></th>\n",
              "      <th>review</th>\n",
              "      <th>skin_type</th>\n",
              "      <th>products</th>\n",
              "      <th>ingredients</th>\n",
              "    </tr>\n",
              "  </thead>\n",
              "  <tbody>\n",
              "    <tr>\n",
              "      <th>24</th>\n",
              "      <td>thank much appreciate work toy put question\\r\\...</td>\n",
              "      <td>combination</td>\n",
              "      <td>Hada Labo premium lotion</td>\n",
              "      <td>alcohol,ceramides,fatty acid,fatty alcohol</td>\n",
              "    </tr>\n",
              "    <tr>\n",
              "      <th>28</th>\n",
              "      <td>well shower pm used cerave hydrating cleanser ...</td>\n",
              "      <td>dry,oily</td>\n",
              "      <td>cerave,Cerave hydrating cleanser</td>\n",
              "      <td>aloe vera,aloe</td>\n",
              "    </tr>\n",
              "    <tr>\n",
              "      <th>76</th>\n",
              "      <td>read skincare routine would definitely suggest...</td>\n",
              "      <td>oily</td>\n",
              "      <td>Vitamin C Serum</td>\n",
              "      <td>vitamin C</td>\n",
              "    </tr>\n",
              "    <tr>\n",
              "      <th>168</th>\n",
              "      <td>one thing worked really well making sure skin ...</td>\n",
              "      <td>acne,dry,oily</td>\n",
              "      <td>Hyaluronic Acid Serum</td>\n",
              "      <td>hyaluronic acid,rose oil</td>\n",
              "    </tr>\n",
              "    <tr>\n",
              "      <th>242</th>\n",
              "      <td>look dermatology literature youll find fact co...</td>\n",
              "      <td>acne</td>\n",
              "      <td>Drunk Elephant</td>\n",
              "      <td>azelaic acid,hyaluronic acid,vitamin C</td>\n",
              "    </tr>\n",
              "    <tr>\n",
              "      <th>...</th>\n",
              "      <td>...</td>\n",
              "      <td>...</td>\n",
              "      <td>...</td>\n",
              "      <td>...</td>\n",
              "    </tr>\n",
              "    <tr>\n",
              "      <th>56543</th>\n",
              "      <td>aha probably gylcolic acid lactic acid also c...</td>\n",
              "      <td>dry,sensitive</td>\n",
              "      <td>Retinol Serum</td>\n",
              "      <td>lactic acid,retinol,aha,bha,retinoid</td>\n",
              "    </tr>\n",
              "    <tr>\n",
              "      <th>56632</th>\n",
              "      <td>fairly sensitive normaltodry skin palefrecklyr...</td>\n",
              "      <td>acne,dry,sensitive</td>\n",
              "      <td>cerave</td>\n",
              "      <td>squalane</td>\n",
              "    </tr>\n",
              "    <tr>\n",
              "      <th>56664</th>\n",
              "      <td>yep agree anesthesiologists definitely need be...</td>\n",
              "      <td>acne</td>\n",
              "      <td>Cerave healing ointment</td>\n",
              "      <td>niacinamide,vitamin C</td>\n",
              "    </tr>\n",
              "    <tr>\n",
              "      <th>56722</th>\n",
              "      <td>yes pretty much eliminated body acne tweaks an...</td>\n",
              "      <td>acne</td>\n",
              "      <td>cerave</td>\n",
              "      <td>soap</td>\n",
              "    </tr>\n",
              "    <tr>\n",
              "      <th>56744</th>\n",
              "      <td>since goal antiaging common recommendations re...</td>\n",
              "      <td>dry,acne</td>\n",
              "      <td>Glow Tonic,pixi glow tonic</td>\n",
              "      <td>ascorbic acid,glycolic acid,lactic acid,niacin...</td>\n",
              "    </tr>\n",
              "  </tbody>\n",
              "</table>\n",
              "<p>1145 rows × 4 columns</p>\n",
              "</div>"
            ],
            "text/plain": [
              "                                                  review           skin_type  \\\n",
              "24     thank much appreciate work toy put question\\r\\...         combination   \n",
              "28     well shower pm used cerave hydrating cleanser ...            dry,oily   \n",
              "76     read skincare routine would definitely suggest...                oily   \n",
              "168    one thing worked really well making sure skin ...       acne,dry,oily   \n",
              "242    look dermatology literature youll find fact co...                acne   \n",
              "...                                                  ...                 ...   \n",
              "56543   aha probably gylcolic acid lactic acid also c...       dry,sensitive   \n",
              "56632  fairly sensitive normaltodry skin palefrecklyr...  acne,dry,sensitive   \n",
              "56664  yep agree anesthesiologists definitely need be...                acne   \n",
              "56722  yes pretty much eliminated body acne tweaks an...                acne   \n",
              "56744  since goal antiaging common recommendations re...            dry,acne   \n",
              "\n",
              "                               products  \\\n",
              "24             Hada Labo premium lotion   \n",
              "28     cerave,Cerave hydrating cleanser   \n",
              "76                      Vitamin C Serum   \n",
              "168               Hyaluronic Acid Serum   \n",
              "242                      Drunk Elephant   \n",
              "...                                 ...   \n",
              "56543                     Retinol Serum   \n",
              "56632                            cerave   \n",
              "56664           Cerave healing ointment   \n",
              "56722                            cerave   \n",
              "56744        Glow Tonic,pixi glow tonic   \n",
              "\n",
              "                                             ingredients  \n",
              "24            alcohol,ceramides,fatty acid,fatty alcohol  \n",
              "28                                        aloe vera,aloe  \n",
              "76                                             vitamin C  \n",
              "168                             hyaluronic acid,rose oil  \n",
              "242               azelaic acid,hyaluronic acid,vitamin C  \n",
              "...                                                  ...  \n",
              "56543               lactic acid,retinol,aha,bha,retinoid  \n",
              "56632                                           squalane  \n",
              "56664                              niacinamide,vitamin C  \n",
              "56722                                               soap  \n",
              "56744  ascorbic acid,glycolic acid,lactic acid,niacin...  \n",
              "\n",
              "[1145 rows x 4 columns]"
            ]
          },
          "metadata": {
            "tags": []
          },
          "execution_count": 193
        }
      ]
    },
    {
      "cell_type": "code",
      "metadata": {
        "id": "vM7YYVHwBclh",
        "outputId": "289ee9dc-b826-4226-8d20-6eec043d9f2e"
      },
      "source": [
        "t = t.reset_index()\n",
        "t = t.drop(columns=['index'])\n",
        "t"
      ],
      "execution_count": null,
      "outputs": [
        {
          "output_type": "execute_result",
          "data": {
            "text/html": [
              "<div>\n",
              "<style scoped>\n",
              "    .dataframe tbody tr th:only-of-type {\n",
              "        vertical-align: middle;\n",
              "    }\n",
              "\n",
              "    .dataframe tbody tr th {\n",
              "        vertical-align: top;\n",
              "    }\n",
              "\n",
              "    .dataframe thead th {\n",
              "        text-align: right;\n",
              "    }\n",
              "</style>\n",
              "<table border=\"1\" class=\"dataframe\">\n",
              "  <thead>\n",
              "    <tr style=\"text-align: right;\">\n",
              "      <th></th>\n",
              "      <th>review</th>\n",
              "      <th>skin_type</th>\n",
              "      <th>products</th>\n",
              "      <th>ingredients</th>\n",
              "    </tr>\n",
              "  </thead>\n",
              "  <tbody>\n",
              "    <tr>\n",
              "      <th>0</th>\n",
              "      <td>thank much appreciate work toy put question\\r\\...</td>\n",
              "      <td>combination</td>\n",
              "      <td>Hada Labo premium lotion</td>\n",
              "      <td>alcohol,ceramides,fatty acid,fatty alcohol</td>\n",
              "    </tr>\n",
              "    <tr>\n",
              "      <th>1</th>\n",
              "      <td>well shower pm used cerave hydrating cleanser ...</td>\n",
              "      <td>dry,oily</td>\n",
              "      <td>cerave,Cerave hydrating cleanser</td>\n",
              "      <td>aloe vera,aloe</td>\n",
              "    </tr>\n",
              "    <tr>\n",
              "      <th>2</th>\n",
              "      <td>read skincare routine would definitely suggest...</td>\n",
              "      <td>oily</td>\n",
              "      <td>Vitamin C Serum</td>\n",
              "      <td>vitamin C</td>\n",
              "    </tr>\n",
              "    <tr>\n",
              "      <th>3</th>\n",
              "      <td>one thing worked really well making sure skin ...</td>\n",
              "      <td>acne,dry,oily</td>\n",
              "      <td>Hyaluronic Acid Serum</td>\n",
              "      <td>hyaluronic acid,rose oil</td>\n",
              "    </tr>\n",
              "    <tr>\n",
              "      <th>4</th>\n",
              "      <td>look dermatology literature youll find fact co...</td>\n",
              "      <td>acne</td>\n",
              "      <td>Drunk Elephant</td>\n",
              "      <td>azelaic acid,hyaluronic acid,vitamin C</td>\n",
              "    </tr>\n",
              "    <tr>\n",
              "      <th>...</th>\n",
              "      <td>...</td>\n",
              "      <td>...</td>\n",
              "      <td>...</td>\n",
              "      <td>...</td>\n",
              "    </tr>\n",
              "    <tr>\n",
              "      <th>1140</th>\n",
              "      <td>aha probably gylcolic acid lactic acid also c...</td>\n",
              "      <td>dry,sensitive</td>\n",
              "      <td>Retinol Serum</td>\n",
              "      <td>lactic acid,retinol,aha,bha,retinoid</td>\n",
              "    </tr>\n",
              "    <tr>\n",
              "      <th>1141</th>\n",
              "      <td>fairly sensitive normaltodry skin palefrecklyr...</td>\n",
              "      <td>acne,dry,sensitive</td>\n",
              "      <td>cerave</td>\n",
              "      <td>squalane</td>\n",
              "    </tr>\n",
              "    <tr>\n",
              "      <th>1142</th>\n",
              "      <td>yep agree anesthesiologists definitely need be...</td>\n",
              "      <td>acne</td>\n",
              "      <td>Cerave healing ointment</td>\n",
              "      <td>niacinamide,vitamin C</td>\n",
              "    </tr>\n",
              "    <tr>\n",
              "      <th>1143</th>\n",
              "      <td>yes pretty much eliminated body acne tweaks an...</td>\n",
              "      <td>acne</td>\n",
              "      <td>cerave</td>\n",
              "      <td>soap</td>\n",
              "    </tr>\n",
              "    <tr>\n",
              "      <th>1144</th>\n",
              "      <td>since goal antiaging common recommendations re...</td>\n",
              "      <td>dry,acne</td>\n",
              "      <td>Glow Tonic,pixi glow tonic</td>\n",
              "      <td>ascorbic acid,glycolic acid,lactic acid,niacin...</td>\n",
              "    </tr>\n",
              "  </tbody>\n",
              "</table>\n",
              "<p>1145 rows × 4 columns</p>\n",
              "</div>"
            ],
            "text/plain": [
              "                                                 review           skin_type  \\\n",
              "0     thank much appreciate work toy put question\\r\\...         combination   \n",
              "1     well shower pm used cerave hydrating cleanser ...            dry,oily   \n",
              "2     read skincare routine would definitely suggest...                oily   \n",
              "3     one thing worked really well making sure skin ...       acne,dry,oily   \n",
              "4     look dermatology literature youll find fact co...                acne   \n",
              "...                                                 ...                 ...   \n",
              "1140   aha probably gylcolic acid lactic acid also c...       dry,sensitive   \n",
              "1141  fairly sensitive normaltodry skin palefrecklyr...  acne,dry,sensitive   \n",
              "1142  yep agree anesthesiologists definitely need be...                acne   \n",
              "1143  yes pretty much eliminated body acne tweaks an...                acne   \n",
              "1144  since goal antiaging common recommendations re...            dry,acne   \n",
              "\n",
              "                              products  \\\n",
              "0             Hada Labo premium lotion   \n",
              "1     cerave,Cerave hydrating cleanser   \n",
              "2                      Vitamin C Serum   \n",
              "3                Hyaluronic Acid Serum   \n",
              "4                       Drunk Elephant   \n",
              "...                                ...   \n",
              "1140                     Retinol Serum   \n",
              "1141                            cerave   \n",
              "1142           Cerave healing ointment   \n",
              "1143                            cerave   \n",
              "1144        Glow Tonic,pixi glow tonic   \n",
              "\n",
              "                                            ingredients  \n",
              "0            alcohol,ceramides,fatty acid,fatty alcohol  \n",
              "1                                        aloe vera,aloe  \n",
              "2                                             vitamin C  \n",
              "3                              hyaluronic acid,rose oil  \n",
              "4                azelaic acid,hyaluronic acid,vitamin C  \n",
              "...                                                 ...  \n",
              "1140               lactic acid,retinol,aha,bha,retinoid  \n",
              "1141                                           squalane  \n",
              "1142                              niacinamide,vitamin C  \n",
              "1143                                               soap  \n",
              "1144  ascorbic acid,glycolic acid,lactic acid,niacin...  \n",
              "\n",
              "[1145 rows x 4 columns]"
            ]
          },
          "metadata": {
            "tags": []
          },
          "execution_count": 194
        }
      ]
    },
    {
      "cell_type": "code",
      "metadata": {
        "id": "V0EOSZi1Bclh",
        "outputId": "512cdf4b-f787-46a2-b449-c8253bcb9dce"
      },
      "source": [
        "t.iloc[3]['products']"
      ],
      "execution_count": null,
      "outputs": [
        {
          "output_type": "execute_result",
          "data": {
            "text/plain": [
              "'Luna Sleeping Night Oil,Luna Sleeping Night Oil,Luna Sleeping Night Oil,Vitamin C Serum,cetaphil,cerave pm,cerave,Mario badescu,Drunk Elephant,LaNeige Water Bank Essence'"
            ]
          },
          "metadata": {
            "tags": []
          },
          "execution_count": 20
        }
      ]
    },
    {
      "cell_type": "code",
      "metadata": {
        "id": "2y8RNPISBcli"
      },
      "source": [
        "t.to_csv('newmatching_17.csv')"
      ],
      "execution_count": null,
      "outputs": []
    },
    {
      "cell_type": "markdown",
      "metadata": {
        "id": "zRQXl7xCBcli"
      },
      "source": [
        "Joining all the reclassified comments into one dataframe"
      ]
    },
    {
      "cell_type": "code",
      "metadata": {
        "id": "xeZYYL0eBcli"
      },
      "source": [
        "all_matches = glob('newmatching*.csv')\n",
        "\n",
        "list_ = []\n",
        "for file in all_matches:\n",
        "    df = pd.read_csv(file, lineterminator='\\n')\n",
        "    list_.append(df)\n",
        "final_match = pd.concat(list_, ignore_index=True)"
      ],
      "execution_count": null,
      "outputs": []
    },
    {
      "cell_type": "code",
      "metadata": {
        "id": "TdyumrW8Bcli",
        "outputId": "c006d579-d542-44f1-f547-113bdea40cbe"
      },
      "source": [
        "final_match"
      ],
      "execution_count": null,
      "outputs": [
        {
          "output_type": "execute_result",
          "data": {
            "text/html": [
              "<div>\n",
              "<style scoped>\n",
              "    .dataframe tbody tr th:only-of-type {\n",
              "        vertical-align: middle;\n",
              "    }\n",
              "\n",
              "    .dataframe tbody tr th {\n",
              "        vertical-align: top;\n",
              "    }\n",
              "\n",
              "    .dataframe thead th {\n",
              "        text-align: right;\n",
              "    }\n",
              "</style>\n",
              "<table border=\"1\" class=\"dataframe\">\n",
              "  <thead>\n",
              "    <tr style=\"text-align: right;\">\n",
              "      <th></th>\n",
              "      <th>Unnamed: 0</th>\n",
              "      <th>review</th>\n",
              "      <th>skin_type</th>\n",
              "      <th>products</th>\n",
              "      <th>ingredients</th>\n",
              "    </tr>\n",
              "  </thead>\n",
              "  <tbody>\n",
              "    <tr>\n",
              "      <th>0</th>\n",
              "      <td>0</td>\n",
              "      <td>moisturize every day things aveeno drugstorebu...</td>\n",
              "      <td>acne</td>\n",
              "      <td>Vitamin C Serum,The Ordinary</td>\n",
              "      <td>niacinamide,salicylic acid,vitamin C</td>\n",
              "    </tr>\n",
              "    <tr>\n",
              "      <th>1</th>\n",
              "      <td>1</td>\n",
              "      <td>similar routines skin typeconcerns going 28 ye...</td>\n",
              "      <td>dry,acne</td>\n",
              "      <td>Salicylic Acid Cleanser</td>\n",
              "      <td>benzoyl peroxide,retinol,salicylic acid,vitami...</td>\n",
              "    </tr>\n",
              "    <tr>\n",
              "      <th>2</th>\n",
              "      <td>2</td>\n",
              "      <td>say anything else  primary care appointment ja...</td>\n",
              "      <td>dry,sensitive</td>\n",
              "      <td>cetaphil</td>\n",
              "      <td>hyaluronic acid,soap</td>\n",
              "    </tr>\n",
              "    <tr>\n",
              "      <th>3</th>\n",
              "      <td>3</td>\n",
              "      <td>drugstore cleansers general tend harsh irritat...</td>\n",
              "      <td>acne,oily</td>\n",
              "      <td>cerave</td>\n",
              "      <td>fragrance,menthol,salicylic acid</td>\n",
              "    </tr>\n",
              "    <tr>\n",
              "      <th>4</th>\n",
              "      <td>4</td>\n",
              "      <td>acne pretty bad growing face back back somewha...</td>\n",
              "      <td>acne,sensitive</td>\n",
              "      <td>Cerave Foaming Cleanser,cerave</td>\n",
              "      <td>fragrance</td>\n",
              "    </tr>\n",
              "    <tr>\n",
              "      <th>...</th>\n",
              "      <td>...</td>\n",
              "      <td>...</td>\n",
              "      <td>...</td>\n",
              "      <td>...</td>\n",
              "      <td>...</td>\n",
              "    </tr>\n",
              "    <tr>\n",
              "      <th>23118</th>\n",
              "      <td>1151</td>\n",
              "      <td>dry skin burn lotion applied even without alco...</td>\n",
              "      <td>dry</td>\n",
              "      <td>cerave,Cerave healing ointment</td>\n",
              "      <td>alcohol,coconut,coconut oil</td>\n",
              "    </tr>\n",
              "    <tr>\n",
              "      <th>23119</th>\n",
              "      <td>1152</td>\n",
              "      <td>thayers hydrating toner nothing acne cerave cl...</td>\n",
              "      <td>acne</td>\n",
              "      <td>cerave</td>\n",
              "      <td>salicylic acid</td>\n",
              "    </tr>\n",
              "    <tr>\n",
              "      <th>23120</th>\n",
              "      <td>1153</td>\n",
              "      <td>sunscreenfor much products approach multiple h...</td>\n",
              "      <td>dry</td>\n",
              "      <td>cerave</td>\n",
              "      <td>amino acids,squalane,urea</td>\n",
              "    </tr>\n",
              "    <tr>\n",
              "      <th>23121</th>\n",
              "      <td>1154</td>\n",
              "      <td>ive used glow tonic impressed formulated prope...</td>\n",
              "      <td>acne</td>\n",
              "      <td>Glow Tonic</td>\n",
              "      <td>ascorbic acid,fragrance,glycolic acid,salicyli...</td>\n",
              "    </tr>\n",
              "    <tr>\n",
              "      <th>23122</th>\n",
              "      <td>1155</td>\n",
              "      <td>cerave cleanser moisturizer treat acne acne sp...</td>\n",
              "      <td>acne</td>\n",
              "      <td>cerave</td>\n",
              "      <td>salicylic acid,retinoid</td>\n",
              "    </tr>\n",
              "  </tbody>\n",
              "</table>\n",
              "<p>23123 rows × 5 columns</p>\n",
              "</div>"
            ],
            "text/plain": [
              "       Unnamed: 0                                             review  \\\n",
              "0               0  moisturize every day things aveeno drugstorebu...   \n",
              "1               1  similar routines skin typeconcerns going 28 ye...   \n",
              "2               2  say anything else  primary care appointment ja...   \n",
              "3               3  drugstore cleansers general tend harsh irritat...   \n",
              "4               4  acne pretty bad growing face back back somewha...   \n",
              "...           ...                                                ...   \n",
              "23118        1151  dry skin burn lotion applied even without alco...   \n",
              "23119        1152  thayers hydrating toner nothing acne cerave cl...   \n",
              "23120        1153  sunscreenfor much products approach multiple h...   \n",
              "23121        1154  ive used glow tonic impressed formulated prope...   \n",
              "23122        1155  cerave cleanser moisturizer treat acne acne sp...   \n",
              "\n",
              "            skin_type                        products  \\\n",
              "0                acne    Vitamin C Serum,The Ordinary   \n",
              "1            dry,acne         Salicylic Acid Cleanser   \n",
              "2       dry,sensitive                        cetaphil   \n",
              "3           acne,oily                          cerave   \n",
              "4      acne,sensitive  Cerave Foaming Cleanser,cerave   \n",
              "...               ...                             ...   \n",
              "23118             dry  cerave,Cerave healing ointment   \n",
              "23119            acne                          cerave   \n",
              "23120             dry                          cerave   \n",
              "23121            acne                      Glow Tonic   \n",
              "23122            acne                          cerave   \n",
              "\n",
              "                                             ingredients  \n",
              "0                   niacinamide,salicylic acid,vitamin C  \n",
              "1      benzoyl peroxide,retinol,salicylic acid,vitami...  \n",
              "2                                   hyaluronic acid,soap  \n",
              "3                       fragrance,menthol,salicylic acid  \n",
              "4                                              fragrance  \n",
              "...                                                  ...  \n",
              "23118                        alcohol,coconut,coconut oil  \n",
              "23119                                     salicylic acid  \n",
              "23120                          amino acids,squalane,urea  \n",
              "23121  ascorbic acid,fragrance,glycolic acid,salicyli...  \n",
              "23122                            salicylic acid,retinoid  \n",
              "\n",
              "[23123 rows x 5 columns]"
            ]
          },
          "metadata": {
            "tags": []
          },
          "execution_count": 201
        }
      ]
    },
    {
      "cell_type": "code",
      "metadata": {
        "id": "j8OoMREyBcli"
      },
      "source": [
        "final_match.drop('Unnamed: 0', axis=1, inplace=True)"
      ],
      "execution_count": null,
      "outputs": []
    },
    {
      "cell_type": "code",
      "metadata": {
        "id": "dzXY_H04Bclj"
      },
      "source": [
        "final_match.to_csv('final_match2.csv')"
      ],
      "execution_count": null,
      "outputs": []
    },
    {
      "cell_type": "markdown",
      "metadata": {
        "id": "EosiZu3VBclj"
      },
      "source": [
        "## Sentiment Analysis"
      ]
    },
    {
      "cell_type": "code",
      "metadata": {
        "id": "W-JFPS9fBclj"
      },
      "source": [
        "data = pd.read_csv('final_match2.csv', lineterminator='\\n')"
      ],
      "execution_count": null,
      "outputs": []
    },
    {
      "cell_type": "code",
      "metadata": {
        "id": "YRrPekdiBclj"
      },
      "source": [
        "skincare_sentiment = pd.read_csv('sentiment lexicon.csv', header=None)"
      ],
      "execution_count": null,
      "outputs": []
    },
    {
      "cell_type": "code",
      "metadata": {
        "id": "wwHRsTTtBclj",
        "outputId": "f8ca5a74-9bf9-48f3-d03e-95fa7be7028d"
      },
      "source": [
        "skincare_sentiment = skincare_sentiment.drop(skincare_sentiment.columns[2], axis=1)\n",
        "skincare_sentiment"
      ],
      "execution_count": null,
      "outputs": [
        {
          "output_type": "execute_result",
          "data": {
            "text/html": [
              "<div>\n",
              "<style scoped>\n",
              "    .dataframe tbody tr th:only-of-type {\n",
              "        vertical-align: middle;\n",
              "    }\n",
              "\n",
              "    .dataframe tbody tr th {\n",
              "        vertical-align: top;\n",
              "    }\n",
              "\n",
              "    .dataframe thead th {\n",
              "        text-align: right;\n",
              "    }\n",
              "</style>\n",
              "<table border=\"1\" class=\"dataframe\">\n",
              "  <thead>\n",
              "    <tr style=\"text-align: right;\">\n",
              "      <th></th>\n",
              "      <th>0</th>\n",
              "      <th>1</th>\n",
              "    </tr>\n",
              "  </thead>\n",
              "  <tbody>\n",
              "    <tr>\n",
              "      <th>0</th>\n",
              "      <td>severe</td>\n",
              "      <td>-5.83</td>\n",
              "    </tr>\n",
              "    <tr>\n",
              "      <th>1</th>\n",
              "      <td>suffered</td>\n",
              "      <td>-5.68</td>\n",
              "    </tr>\n",
              "    <tr>\n",
              "      <th>2</th>\n",
              "      <td>developed</td>\n",
              "      <td>-5.57</td>\n",
              "    </tr>\n",
              "    <tr>\n",
              "      <th>3</th>\n",
              "      <td>painful</td>\n",
              "      <td>-5.54</td>\n",
              "    </tr>\n",
              "    <tr>\n",
              "      <th>4</th>\n",
              "      <td>massive</td>\n",
              "      <td>-5.48</td>\n",
              "    </tr>\n",
              "    <tr>\n",
              "      <th>...</th>\n",
              "      <td>...</td>\n",
              "      <td>...</td>\n",
              "    </tr>\n",
              "    <tr>\n",
              "      <th>4975</th>\n",
              "      <td>congrats</td>\n",
              "      <td>2.87</td>\n",
              "    </tr>\n",
              "    <tr>\n",
              "      <th>4976</th>\n",
              "      <td>beautiful</td>\n",
              "      <td>2.89</td>\n",
              "    </tr>\n",
              "    <tr>\n",
              "      <th>4977</th>\n",
              "      <td>congratulations</td>\n",
              "      <td>2.90</td>\n",
              "    </tr>\n",
              "    <tr>\n",
              "      <th>4978</th>\n",
              "      <td>gorgeous</td>\n",
              "      <td>2.92</td>\n",
              "    </tr>\n",
              "    <tr>\n",
              "      <th>4979</th>\n",
              "      <td>lovely</td>\n",
              "      <td>2.95</td>\n",
              "    </tr>\n",
              "  </tbody>\n",
              "</table>\n",
              "<p>4980 rows × 2 columns</p>\n",
              "</div>"
            ],
            "text/plain": [
              "                    0     1\n",
              "0              severe -5.83\n",
              "1            suffered -5.68\n",
              "2           developed -5.57\n",
              "3             painful -5.54\n",
              "4             massive -5.48\n",
              "...               ...   ...\n",
              "4975         congrats  2.87\n",
              "4976        beautiful  2.89\n",
              "4977  congratulations  2.90\n",
              "4978         gorgeous  2.92\n",
              "4979           lovely  2.95\n",
              "\n",
              "[4980 rows x 2 columns]"
            ]
          },
          "metadata": {
            "tags": []
          },
          "execution_count": 205
        }
      ]
    },
    {
      "cell_type": "code",
      "metadata": {
        "id": "_L1gcgcyBclj"
      },
      "source": [
        "new_dict = dict(zip(skincare_sentiment[0], skincare_sentiment[1]))"
      ],
      "execution_count": null,
      "outputs": []
    },
    {
      "cell_type": "code",
      "metadata": {
        "id": "CTSf8qBRBclj"
      },
      "source": [
        "analyzer = SentimentIntensityAnalyzer()\n",
        "analyzer.lexicon.update(new_dict)\n",
        "\n",
        "def sentiment(text):\n",
        "    vs = analyzer.polarity_scores(text)\n",
        "    \n",
        "    return vs['compound']\n",
        "    "
      ],
      "execution_count": null,
      "outputs": []
    },
    {
      "cell_type": "code",
      "metadata": {
        "id": "kl0WhAmNBclj"
      },
      "source": [
        "data['sentiment'] = data['review'].apply(lambda x: sentiment(x))"
      ],
      "execution_count": null,
      "outputs": []
    },
    {
      "cell_type": "code",
      "metadata": {
        "id": "6H50MhdTBclj",
        "outputId": "55ffaf93-11c3-48ce-97fa-cae6bd14b8e9"
      },
      "source": [
        "data"
      ],
      "execution_count": null,
      "outputs": [
        {
          "output_type": "execute_result",
          "data": {
            "text/html": [
              "<div>\n",
              "<style scoped>\n",
              "    .dataframe tbody tr th:only-of-type {\n",
              "        vertical-align: middle;\n",
              "    }\n",
              "\n",
              "    .dataframe tbody tr th {\n",
              "        vertical-align: top;\n",
              "    }\n",
              "\n",
              "    .dataframe thead th {\n",
              "        text-align: right;\n",
              "    }\n",
              "</style>\n",
              "<table border=\"1\" class=\"dataframe\">\n",
              "  <thead>\n",
              "    <tr style=\"text-align: right;\">\n",
              "      <th></th>\n",
              "      <th>Unnamed: 0</th>\n",
              "      <th>review</th>\n",
              "      <th>skin_type</th>\n",
              "      <th>products</th>\n",
              "      <th>ingredients</th>\n",
              "      <th>sentiment</th>\n",
              "    </tr>\n",
              "  </thead>\n",
              "  <tbody>\n",
              "    <tr>\n",
              "      <th>0</th>\n",
              "      <td>0</td>\n",
              "      <td>moisturize every day things aveeno drugstorebu...</td>\n",
              "      <td>acne</td>\n",
              "      <td>Vitamin C Serum,The Ordinary</td>\n",
              "      <td>niacinamide,salicylic acid,vitamin C</td>\n",
              "      <td>0.9798</td>\n",
              "    </tr>\n",
              "    <tr>\n",
              "      <th>1</th>\n",
              "      <td>1</td>\n",
              "      <td>similar routines skin typeconcerns going 28 ye...</td>\n",
              "      <td>dry,acne</td>\n",
              "      <td>Salicylic Acid Cleanser</td>\n",
              "      <td>benzoyl peroxide,retinol,salicylic acid,vitami...</td>\n",
              "      <td>-0.7380</td>\n",
              "    </tr>\n",
              "    <tr>\n",
              "      <th>2</th>\n",
              "      <td>2</td>\n",
              "      <td>say anything else  primary care appointment ja...</td>\n",
              "      <td>dry,sensitive</td>\n",
              "      <td>cetaphil</td>\n",
              "      <td>hyaluronic acid,soap</td>\n",
              "      <td>-0.9952</td>\n",
              "    </tr>\n",
              "    <tr>\n",
              "      <th>3</th>\n",
              "      <td>3</td>\n",
              "      <td>drugstore cleansers general tend harsh irritat...</td>\n",
              "      <td>acne,oily</td>\n",
              "      <td>cerave</td>\n",
              "      <td>fragrance,menthol,salicylic acid</td>\n",
              "      <td>0.9569</td>\n",
              "    </tr>\n",
              "    <tr>\n",
              "      <th>4</th>\n",
              "      <td>4</td>\n",
              "      <td>acne pretty bad growing face back back somewha...</td>\n",
              "      <td>acne,sensitive</td>\n",
              "      <td>Cerave Foaming Cleanser,cerave</td>\n",
              "      <td>fragrance</td>\n",
              "      <td>0.6286</td>\n",
              "    </tr>\n",
              "    <tr>\n",
              "      <th>...</th>\n",
              "      <td>...</td>\n",
              "      <td>...</td>\n",
              "      <td>...</td>\n",
              "      <td>...</td>\n",
              "      <td>...</td>\n",
              "      <td>...</td>\n",
              "    </tr>\n",
              "    <tr>\n",
              "      <th>23118</th>\n",
              "      <td>23118</td>\n",
              "      <td>dry skin burn lotion applied even without alco...</td>\n",
              "      <td>dry</td>\n",
              "      <td>cerave,Cerave healing ointment</td>\n",
              "      <td>alcohol,coconut,coconut oil</td>\n",
              "      <td>-0.3356</td>\n",
              "    </tr>\n",
              "    <tr>\n",
              "      <th>23119</th>\n",
              "      <td>23119</td>\n",
              "      <td>thayers hydrating toner nothing acne cerave cl...</td>\n",
              "      <td>acne</td>\n",
              "      <td>cerave</td>\n",
              "      <td>salicylic acid</td>\n",
              "      <td>0.0155</td>\n",
              "    </tr>\n",
              "    <tr>\n",
              "      <th>23120</th>\n",
              "      <td>23120</td>\n",
              "      <td>sunscreenfor much products approach multiple h...</td>\n",
              "      <td>dry</td>\n",
              "      <td>cerave</td>\n",
              "      <td>amino acids,squalane,urea</td>\n",
              "      <td>0.9870</td>\n",
              "    </tr>\n",
              "    <tr>\n",
              "      <th>23121</th>\n",
              "      <td>23121</td>\n",
              "      <td>ive used glow tonic impressed formulated prope...</td>\n",
              "      <td>acne</td>\n",
              "      <td>Glow Tonic</td>\n",
              "      <td>ascorbic acid,fragrance,glycolic acid,salicyli...</td>\n",
              "      <td>0.9872</td>\n",
              "    </tr>\n",
              "    <tr>\n",
              "      <th>23122</th>\n",
              "      <td>23122</td>\n",
              "      <td>cerave cleanser moisturizer treat acne acne sp...</td>\n",
              "      <td>acne</td>\n",
              "      <td>cerave</td>\n",
              "      <td>salicylic acid,retinoid</td>\n",
              "      <td>-0.8552</td>\n",
              "    </tr>\n",
              "  </tbody>\n",
              "</table>\n",
              "<p>23123 rows × 6 columns</p>\n",
              "</div>"
            ],
            "text/plain": [
              "       Unnamed: 0                                             review  \\\n",
              "0               0  moisturize every day things aveeno drugstorebu...   \n",
              "1               1  similar routines skin typeconcerns going 28 ye...   \n",
              "2               2  say anything else  primary care appointment ja...   \n",
              "3               3  drugstore cleansers general tend harsh irritat...   \n",
              "4               4  acne pretty bad growing face back back somewha...   \n",
              "...           ...                                                ...   \n",
              "23118       23118  dry skin burn lotion applied even without alco...   \n",
              "23119       23119  thayers hydrating toner nothing acne cerave cl...   \n",
              "23120       23120  sunscreenfor much products approach multiple h...   \n",
              "23121       23121  ive used glow tonic impressed formulated prope...   \n",
              "23122       23122  cerave cleanser moisturizer treat acne acne sp...   \n",
              "\n",
              "            skin_type                        products  \\\n",
              "0                acne    Vitamin C Serum,The Ordinary   \n",
              "1            dry,acne         Salicylic Acid Cleanser   \n",
              "2       dry,sensitive                        cetaphil   \n",
              "3           acne,oily                          cerave   \n",
              "4      acne,sensitive  Cerave Foaming Cleanser,cerave   \n",
              "...               ...                             ...   \n",
              "23118             dry  cerave,Cerave healing ointment   \n",
              "23119            acne                          cerave   \n",
              "23120             dry                          cerave   \n",
              "23121            acne                      Glow Tonic   \n",
              "23122            acne                          cerave   \n",
              "\n",
              "                                             ingredients  sentiment  \n",
              "0                   niacinamide,salicylic acid,vitamin C     0.9798  \n",
              "1      benzoyl peroxide,retinol,salicylic acid,vitami...    -0.7380  \n",
              "2                                   hyaluronic acid,soap    -0.9952  \n",
              "3                       fragrance,menthol,salicylic acid     0.9569  \n",
              "4                                              fragrance     0.6286  \n",
              "...                                                  ...        ...  \n",
              "23118                        alcohol,coconut,coconut oil    -0.3356  \n",
              "23119                                     salicylic acid     0.0155  \n",
              "23120                          amino acids,squalane,urea     0.9870  \n",
              "23121  ascorbic acid,fragrance,glycolic acid,salicyli...     0.9872  \n",
              "23122                            salicylic acid,retinoid    -0.8552  \n",
              "\n",
              "[23123 rows x 6 columns]"
            ]
          },
          "metadata": {
            "tags": []
          },
          "execution_count": 233
        }
      ]
    },
    {
      "cell_type": "code",
      "metadata": {
        "id": "KXYjK-pOBclk"
      },
      "source": [
        "data.drop('Unnamed: 0', axis=1, inplace=True)"
      ],
      "execution_count": null,
      "outputs": []
    },
    {
      "cell_type": "code",
      "metadata": {
        "id": "k1vCeGfiBclk"
      },
      "source": [
        "pd.to_pickle(data, 'final_sentiment2.pkl')"
      ],
      "execution_count": null,
      "outputs": []
    },
    {
      "cell_type": "markdown",
      "metadata": {
        "id": "ZspMOHL6Bclk"
      },
      "source": [
        "# Creating user-item matrix"
      ]
    },
    {
      "cell_type": "code",
      "metadata": {
        "id": "DzoR4Wd9Bclk"
      },
      "source": [
        "user_id = []\n",
        "product_id = []\n",
        "sentiment = []\n",
        "product_name = []\n",
        "skins = []\n",
        "reviews = []\n",
        "\n",
        "for user in range(len(data['review'])):\n",
        "    products = data.iloc[user,2]\n",
        "    skin = data.iloc[user,1]\n",
        "    sent = data.iloc[user,4]\n",
        "    review = data.iloc[user,0]\n",
        "    ingredients = data.iloc[user,3]\n",
        "    split_ing = ingredients.split(',')\n",
        "    split_products = products.split(',')\n",
        "    for item in split_products:\n",
        "        item = item.strip()\n",
        "        user_id.append(user+1)\n",
        "        reviews.append(review)\n",
        "        skins.append(skin)\n",
        "        sentiment.append(sent)\n",
        "        if item in product_name:\n",
        "            item_index = product_name.index(item)\n",
        "            p_id = product_id[item_index]\n",
        "            product_name.append(item)\n",
        "            product_id.append(p_id)\n",
        "        else:\n",
        "            product_name.append(item)\n",
        "            product_id.append(len(product_id)+1)\n",
        "    for ing in split_ing:\n",
        "        ing=ing.strip()\n",
        "        user_id.append(user+1)\n",
        "        reviews.append(review)\n",
        "        skins.append(skin)\n",
        "        sentiment.append(sent)\n",
        "        if ing in product_name:\n",
        "            item_index = product_name.index(ing)\n",
        "            p_id = product_id[item_index]\n",
        "            product_name.append(ing)\n",
        "            product_id.append(p_id)\n",
        "        else:\n",
        "            product_name.append(ing)\n",
        "            product_id.append(len(product_id)+1)\n",
        "    "
      ],
      "execution_count": null,
      "outputs": []
    },
    {
      "cell_type": "code",
      "metadata": {
        "id": "wRQmO4WjBclk"
      },
      "source": [
        "d = pd.DataFrame({'user_id':user_id, 'product_id':product_id,'product_name':product_name,'skin_type':skins,'rating':sentiment,'review':reviews})"
      ],
      "execution_count": null,
      "outputs": []
    },
    {
      "cell_type": "code",
      "metadata": {
        "id": "19a6MBe6Bclk",
        "outputId": "3183e277-3772-4d22-a291-c80160106973"
      },
      "source": [
        "d"
      ],
      "execution_count": null,
      "outputs": [
        {
          "output_type": "execute_result",
          "data": {
            "text/html": [
              "<div>\n",
              "<style scoped>\n",
              "    .dataframe tbody tr th:only-of-type {\n",
              "        vertical-align: middle;\n",
              "    }\n",
              "\n",
              "    .dataframe tbody tr th {\n",
              "        vertical-align: top;\n",
              "    }\n",
              "\n",
              "    .dataframe thead th {\n",
              "        text-align: right;\n",
              "    }\n",
              "</style>\n",
              "<table border=\"1\" class=\"dataframe\">\n",
              "  <thead>\n",
              "    <tr style=\"text-align: right;\">\n",
              "      <th></th>\n",
              "      <th>user_id</th>\n",
              "      <th>product_id</th>\n",
              "      <th>product_name</th>\n",
              "      <th>skin_type</th>\n",
              "      <th>rating</th>\n",
              "      <th>review</th>\n",
              "    </tr>\n",
              "  </thead>\n",
              "  <tbody>\n",
              "    <tr>\n",
              "      <th>0</th>\n",
              "      <td>1</td>\n",
              "      <td>1</td>\n",
              "      <td>Vitamin C Serum</td>\n",
              "      <td>acne</td>\n",
              "      <td>0.9798</td>\n",
              "      <td>moisturize every day things aveeno drugstorebu...</td>\n",
              "    </tr>\n",
              "    <tr>\n",
              "      <th>1</th>\n",
              "      <td>1</td>\n",
              "      <td>2</td>\n",
              "      <td>The Ordinary</td>\n",
              "      <td>acne</td>\n",
              "      <td>0.9798</td>\n",
              "      <td>moisturize every day things aveeno drugstorebu...</td>\n",
              "    </tr>\n",
              "    <tr>\n",
              "      <th>2</th>\n",
              "      <td>1</td>\n",
              "      <td>3</td>\n",
              "      <td>niacinamide</td>\n",
              "      <td>acne</td>\n",
              "      <td>0.9798</td>\n",
              "      <td>moisturize every day things aveeno drugstorebu...</td>\n",
              "    </tr>\n",
              "    <tr>\n",
              "      <th>3</th>\n",
              "      <td>1</td>\n",
              "      <td>4</td>\n",
              "      <td>salicylic acid</td>\n",
              "      <td>acne</td>\n",
              "      <td>0.9798</td>\n",
              "      <td>moisturize every day things aveeno drugstorebu...</td>\n",
              "    </tr>\n",
              "    <tr>\n",
              "      <th>4</th>\n",
              "      <td>1</td>\n",
              "      <td>5</td>\n",
              "      <td>vitamin C</td>\n",
              "      <td>acne</td>\n",
              "      <td>0.9798</td>\n",
              "      <td>moisturize every day things aveeno drugstorebu...</td>\n",
              "    </tr>\n",
              "    <tr>\n",
              "      <th>...</th>\n",
              "      <td>...</td>\n",
              "      <td>...</td>\n",
              "      <td>...</td>\n",
              "      <td>...</td>\n",
              "      <td>...</td>\n",
              "      <td>...</td>\n",
              "    </tr>\n",
              "    <tr>\n",
              "      <th>115243</th>\n",
              "      <td>23122</td>\n",
              "      <td>4</td>\n",
              "      <td>salicylic acid</td>\n",
              "      <td>acne</td>\n",
              "      <td>0.9872</td>\n",
              "      <td>ive used glow tonic impressed formulated prope...</td>\n",
              "    </tr>\n",
              "    <tr>\n",
              "      <th>115244</th>\n",
              "      <td>23122</td>\n",
              "      <td>5</td>\n",
              "      <td>vitamin C</td>\n",
              "      <td>acne</td>\n",
              "      <td>0.9872</td>\n",
              "      <td>ive used glow tonic impressed formulated prope...</td>\n",
              "    </tr>\n",
              "    <tr>\n",
              "      <th>115245</th>\n",
              "      <td>23123</td>\n",
              "      <td>15</td>\n",
              "      <td>cerave</td>\n",
              "      <td>acne</td>\n",
              "      <td>-0.8552</td>\n",
              "      <td>cerave cleanser moisturizer treat acne acne sp...</td>\n",
              "    </tr>\n",
              "    <tr>\n",
              "      <th>115246</th>\n",
              "      <td>23123</td>\n",
              "      <td>4</td>\n",
              "      <td>salicylic acid</td>\n",
              "      <td>acne</td>\n",
              "      <td>-0.8552</td>\n",
              "      <td>cerave cleanser moisturizer treat acne acne sp...</td>\n",
              "    </tr>\n",
              "    <tr>\n",
              "      <th>115247</th>\n",
              "      <td>23123</td>\n",
              "      <td>11</td>\n",
              "      <td>retinoid</td>\n",
              "      <td>acne</td>\n",
              "      <td>-0.8552</td>\n",
              "      <td>cerave cleanser moisturizer treat acne acne sp...</td>\n",
              "    </tr>\n",
              "  </tbody>\n",
              "</table>\n",
              "<p>115248 rows × 6 columns</p>\n",
              "</div>"
            ],
            "text/plain": [
              "        user_id  product_id     product_name skin_type  rating  \\\n",
              "0             1           1  Vitamin C Serum      acne  0.9798   \n",
              "1             1           2     The Ordinary      acne  0.9798   \n",
              "2             1           3      niacinamide      acne  0.9798   \n",
              "3             1           4   salicylic acid      acne  0.9798   \n",
              "4             1           5        vitamin C      acne  0.9798   \n",
              "...         ...         ...              ...       ...     ...   \n",
              "115243    23122           4   salicylic acid      acne  0.9872   \n",
              "115244    23122           5        vitamin C      acne  0.9872   \n",
              "115245    23123          15           cerave      acne -0.8552   \n",
              "115246    23123           4   salicylic acid      acne -0.8552   \n",
              "115247    23123          11         retinoid      acne -0.8552   \n",
              "\n",
              "                                                   review  \n",
              "0       moisturize every day things aveeno drugstorebu...  \n",
              "1       moisturize every day things aveeno drugstorebu...  \n",
              "2       moisturize every day things aveeno drugstorebu...  \n",
              "3       moisturize every day things aveeno drugstorebu...  \n",
              "4       moisturize every day things aveeno drugstorebu...  \n",
              "...                                                   ...  \n",
              "115243  ive used glow tonic impressed formulated prope...  \n",
              "115244  ive used glow tonic impressed formulated prope...  \n",
              "115245  cerave cleanser moisturizer treat acne acne sp...  \n",
              "115246  cerave cleanser moisturizer treat acne acne sp...  \n",
              "115247  cerave cleanser moisturizer treat acne acne sp...  \n",
              "\n",
              "[115248 rows x 6 columns]"
            ]
          },
          "metadata": {
            "tags": []
          },
          "execution_count": 237
        }
      ]
    },
    {
      "cell_type": "code",
      "metadata": {
        "id": "7RlkRJSjBclk"
      },
      "source": [
        "pd.to_pickle(d, './skin_dataset3.pkl')"
      ],
      "execution_count": null,
      "outputs": []
    }
  ]
}