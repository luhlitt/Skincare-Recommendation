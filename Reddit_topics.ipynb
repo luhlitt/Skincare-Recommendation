{
  "nbformat": 4,
  "nbformat_minor": 0,
  "metadata": {
    "colab": {
      "name": "Reddit topics",
      "provenance": []
    },
    "kernelspec": {
      "name": "python3",
      "display_name": "Python 3"
    }
  },
  "cells": [
    {
      "cell_type": "code",
      "metadata": {
        "id": "TV1Jyw77ZoLi",
        "colab_type": "code",
        "colab": {
          "base_uri": "https://localhost:8080/",
          "height": 139
        },
        "outputId": "5a61290b-3f43-4149-ecaa-61daf4eb93a0"
      },
      "source": [
        "from google.colab import drive\n",
        "drive.mount('/content/gdrive')\n",
        "\n",
        "%cd /content/gdrive/My\\ Drive/"
      ],
      "execution_count": null,
      "outputs": [
        {
          "output_type": "stream",
          "text": [
            "Go to this URL in a browser: https://accounts.google.com/o/oauth2/auth?client_id=947318989803-6bn6qk8qdgf4n4g3pfee6491hc0brc4i.apps.googleusercontent.com&redirect_uri=urn%3aietf%3awg%3aoauth%3a2.0%3aoob&scope=email%20https%3a%2f%2fwww.googleapis.com%2fauth%2fdocs.test%20https%3a%2f%2fwww.googleapis.com%2fauth%2fdrive%20https%3a%2f%2fwww.googleapis.com%2fauth%2fdrive.photos.readonly%20https%3a%2f%2fwww.googleapis.com%2fauth%2fpeopleapi.readonly&response_type=code\n",
            "\n",
            "Enter your authorization code:\n",
            "··········\n",
            "Mounted at /content/gdrive\n",
            "/content/gdrive/My Drive\n"
          ],
          "name": "stdout"
        }
      ]
    },
    {
      "cell_type": "code",
      "metadata": {
        "id": "wlz6NBS6Zqsq",
        "colab_type": "code",
        "colab": {}
      },
      "source": [
        "import numpy as np\n",
        "import pandas as pd\n",
        "import matplotlib.pyplot as plt\n",
        "import os\n",
        "import pickle\n",
        "\n",
        "import string\n",
        "import json\n",
        "import re\n",
        "\n",
        "import gensim\n",
        "from gensim.utils import simple_preprocess\n",
        "from gensim.parsing.preprocessing import STOPWORDS\n",
        "from nltk.stem import WordNetLemmatizer, SnowballStemmer\n",
        "from nltk.stem.porter import *\n",
        "import nltk\n",
        "\n",
        "from keras.regularizers import l2\n",
        "from keras.layers import Input, Embedding, Flatten, Dot, Dense, Add, Reshape, LSTM, Concatenate\n",
        "from keras.models import Sequential\n",
        "from keras.models import Model\n",
        "from keras.optimizers import SGD, Adam\n",
        "\n",
        "\n",
        "%matplotlib inline"
      ],
      "execution_count": null,
      "outputs": []
    },
    {
      "cell_type": "code",
      "metadata": {
        "id": "-ckQTUNOZ3rN",
        "colab_type": "code",
        "colab": {}
      },
      "source": [
        "## load in the data\n",
        "with open('edited5.pkl', 'rb') as f:\n",
        "  df = pickle.load(f)\n",
        "df"
      ],
      "execution_count": null,
      "outputs": []
    },
    {
      "cell_type": "code",
      "metadata": {
        "id": "Fw0XkbqGZ96-",
        "colab_type": "code",
        "colab": {
          "base_uri": "https://localhost:8080/",
          "height": 419
        },
        "outputId": "c09177b8-c44d-4b9f-bc3c-6e45162924e4"
      },
      "source": [
        "dataset = pd.DataFrame(df)\n",
        "dataset"
      ],
      "execution_count": null,
      "outputs": [
        {
          "output_type": "execute_result",
          "data": {
            "text/html": [
              "<div>\n",
              "<style scoped>\n",
              "    .dataframe tbody tr th:only-of-type {\n",
              "        vertical-align: middle;\n",
              "    }\n",
              "\n",
              "    .dataframe tbody tr th {\n",
              "        vertical-align: top;\n",
              "    }\n",
              "\n",
              "    .dataframe thead th {\n",
              "        text-align: right;\n",
              "    }\n",
              "</style>\n",
              "<table border=\"1\" class=\"dataframe\">\n",
              "  <thead>\n",
              "    <tr style=\"text-align: right;\">\n",
              "      <th></th>\n",
              "      <th>user_id</th>\n",
              "      <th>product_id</th>\n",
              "      <th>product_name</th>\n",
              "      <th>skin_type</th>\n",
              "      <th>rating</th>\n",
              "      <th>review</th>\n",
              "      <th>userId</th>\n",
              "      <th>product_idx</th>\n",
              "    </tr>\n",
              "  </thead>\n",
              "  <tbody>\n",
              "    <tr>\n",
              "      <th>0</th>\n",
              "      <td>1</td>\n",
              "      <td>1</td>\n",
              "      <td>Vitamin C Serum</td>\n",
              "      <td>acne</td>\n",
              "      <td>0.9798</td>\n",
              "      <td>moisturize every day things aveeno drugstorebu...</td>\n",
              "      <td>0</td>\n",
              "      <td>0</td>\n",
              "    </tr>\n",
              "    <tr>\n",
              "      <th>1</th>\n",
              "      <td>1</td>\n",
              "      <td>2</td>\n",
              "      <td>The Ordinary</td>\n",
              "      <td>acne</td>\n",
              "      <td>0.9798</td>\n",
              "      <td>moisturize every day things aveeno drugstorebu...</td>\n",
              "      <td>0</td>\n",
              "      <td>1</td>\n",
              "    </tr>\n",
              "    <tr>\n",
              "      <th>2</th>\n",
              "      <td>1</td>\n",
              "      <td>3</td>\n",
              "      <td>niacinamide</td>\n",
              "      <td>acne</td>\n",
              "      <td>0.9798</td>\n",
              "      <td>moisturize every day things aveeno drugstorebu...</td>\n",
              "      <td>0</td>\n",
              "      <td>2</td>\n",
              "    </tr>\n",
              "    <tr>\n",
              "      <th>3</th>\n",
              "      <td>1</td>\n",
              "      <td>4</td>\n",
              "      <td>salicylic acid</td>\n",
              "      <td>acne</td>\n",
              "      <td>0.9798</td>\n",
              "      <td>moisturize every day things aveeno drugstorebu...</td>\n",
              "      <td>0</td>\n",
              "      <td>3</td>\n",
              "    </tr>\n",
              "    <tr>\n",
              "      <th>4</th>\n",
              "      <td>1</td>\n",
              "      <td>5</td>\n",
              "      <td>vitamin C</td>\n",
              "      <td>acne</td>\n",
              "      <td>0.9798</td>\n",
              "      <td>moisturize every day things aveeno drugstorebu...</td>\n",
              "      <td>0</td>\n",
              "      <td>4</td>\n",
              "    </tr>\n",
              "    <tr>\n",
              "      <th>...</th>\n",
              "      <td>...</td>\n",
              "      <td>...</td>\n",
              "      <td>...</td>\n",
              "      <td>...</td>\n",
              "      <td>...</td>\n",
              "      <td>...</td>\n",
              "      <td>...</td>\n",
              "      <td>...</td>\n",
              "    </tr>\n",
              "    <tr>\n",
              "      <th>115243</th>\n",
              "      <td>23122</td>\n",
              "      <td>4</td>\n",
              "      <td>salicylic acid</td>\n",
              "      <td>acne</td>\n",
              "      <td>0.9872</td>\n",
              "      <td>ive used glow tonic impressed formulated prope...</td>\n",
              "      <td>23121</td>\n",
              "      <td>3</td>\n",
              "    </tr>\n",
              "    <tr>\n",
              "      <th>115244</th>\n",
              "      <td>23122</td>\n",
              "      <td>5</td>\n",
              "      <td>vitamin C</td>\n",
              "      <td>acne</td>\n",
              "      <td>0.9872</td>\n",
              "      <td>ive used glow tonic impressed formulated prope...</td>\n",
              "      <td>23121</td>\n",
              "      <td>4</td>\n",
              "    </tr>\n",
              "    <tr>\n",
              "      <th>115245</th>\n",
              "      <td>23123</td>\n",
              "      <td>15</td>\n",
              "      <td>cerave</td>\n",
              "      <td>acne</td>\n",
              "      <td>-0.8552</td>\n",
              "      <td>cerave cleanser moisturizer treat acne acne sp...</td>\n",
              "      <td>23122</td>\n",
              "      <td>14</td>\n",
              "    </tr>\n",
              "    <tr>\n",
              "      <th>115246</th>\n",
              "      <td>23123</td>\n",
              "      <td>4</td>\n",
              "      <td>salicylic acid</td>\n",
              "      <td>acne</td>\n",
              "      <td>-0.8552</td>\n",
              "      <td>cerave cleanser moisturizer treat acne acne sp...</td>\n",
              "      <td>23122</td>\n",
              "      <td>3</td>\n",
              "    </tr>\n",
              "    <tr>\n",
              "      <th>115247</th>\n",
              "      <td>23123</td>\n",
              "      <td>11</td>\n",
              "      <td>retinoid</td>\n",
              "      <td>acne</td>\n",
              "      <td>-0.8552</td>\n",
              "      <td>cerave cleanser moisturizer treat acne acne sp...</td>\n",
              "      <td>23122</td>\n",
              "      <td>10</td>\n",
              "    </tr>\n",
              "  </tbody>\n",
              "</table>\n",
              "<p>115248 rows × 8 columns</p>\n",
              "</div>"
            ],
            "text/plain": [
              "        user_id  product_id  ... userId product_idx\n",
              "0             1           1  ...      0           0\n",
              "1             1           2  ...      0           1\n",
              "2             1           3  ...      0           2\n",
              "3             1           4  ...      0           3\n",
              "4             1           5  ...      0           4\n",
              "...         ...         ...  ...    ...         ...\n",
              "115243    23122           4  ...  23121           3\n",
              "115244    23122           5  ...  23121           4\n",
              "115245    23123          15  ...  23122          14\n",
              "115246    23123           4  ...  23122           3\n",
              "115247    23123          11  ...  23122          10\n",
              "\n",
              "[115248 rows x 8 columns]"
            ]
          },
          "metadata": {
            "tags": []
          },
          "execution_count": 6
        }
      ]
    },
    {
      "cell_type": "code",
      "metadata": {
        "id": "LZpne_K4aimF",
        "colab_type": "code",
        "colab": {}
      },
      "source": [
        "def lemmatize_stemming(text):\n",
        "    return (WordNetLemmatizer().lemmatize(text, pos='v'))\n",
        "\n",
        "def preprocess(text):\n",
        "    result = []\n",
        "    for token in gensim.utils.simple_preprocess(text):\n",
        "        if token not in gensim.parsing.preprocessing.STOPWORDS and len(token) > 3:\n",
        "            result.append(lemmatize_stemming(token))\n",
        "    return result"
      ],
      "execution_count": null,
      "outputs": []
    },
    {
      "cell_type": "code",
      "metadata": {
        "id": "IUohKMLmaKj4",
        "colab_type": "code",
        "colab": {
          "base_uri": "https://localhost:8080/",
          "height": 204
        },
        "outputId": "61d6c371-b654-4c6b-eef1-03eed09e10fe"
      },
      "source": [
        "clean_docs = dataset['review'].map(preprocess)\n",
        "clean_docs[:10]"
      ],
      "execution_count": null,
      "outputs": [
        {
          "output_type": "execute_result",
          "data": {
            "text/plain": [
              "0    [moisturize, things, aveeno, drugstorebudget, ...\n",
              "1    [moisturize, things, aveeno, drugstorebudget, ...\n",
              "2    [moisturize, things, aveeno, drugstorebudget, ...\n",
              "3    [moisturize, things, aveeno, drugstorebudget, ...\n",
              "4    [moisturize, things, aveeno, drugstorebudget, ...\n",
              "5    [similar, routines, skin, typeconcerns, go, ye...\n",
              "6    [similar, routines, skin, typeconcerns, go, ye...\n",
              "7    [similar, routines, skin, typeconcerns, go, ye...\n",
              "8    [similar, routines, skin, typeconcerns, go, ye...\n",
              "9    [similar, routines, skin, typeconcerns, go, ye...\n",
              "Name: review, dtype: object"
            ]
          },
          "metadata": {
            "tags": []
          },
          "execution_count": 10
        }
      ]
    },
    {
      "cell_type": "markdown",
      "metadata": {
        "id": "5rZZslJYbUMC",
        "colab_type": "text"
      },
      "source": [
        "TD-IDF"
      ]
    },
    {
      "cell_type": "code",
      "metadata": {
        "id": "CnzSiV-fbVgn",
        "colab_type": "code",
        "colab": {
          "base_uri": "https://localhost:8080/",
          "height": 204
        },
        "outputId": "31ada162-6a09-4fdf-9528-f0d6be861b65"
      },
      "source": [
        "dictionary = gensim.corpora.Dictionary(clean_docs)\n",
        "count = 0\n",
        "for k, v in dictionary.iteritems():\n",
        "    print(k, v)\n",
        "    count += 1\n",
        "    if count > 10:\n",
        "        break"
      ],
      "execution_count": null,
      "outputs": [
        {
          "output_type": "stream",
          "text": [
            "0 acid\n",
            "1 acne\n",
            "2 aveeno\n",
            "3 away\n",
            "4 best\n",
            "5 cheap\n",
            "6 clean\n",
            "7 clear\n",
            "8 drugstorebudget\n",
            "9 good\n",
            "10 little\n"
          ],
          "name": "stdout"
        }
      ]
    },
    {
      "cell_type": "code",
      "metadata": {
        "id": "TzHt6OwcbWOQ",
        "colab_type": "code",
        "colab": {}
      },
      "source": [
        "dictionary.filter_extremes(no_below=15, no_above=0.5, keep_n=100000)"
      ],
      "execution_count": null,
      "outputs": []
    },
    {
      "cell_type": "code",
      "metadata": {
        "id": "Pb8RqLhYbaAo",
        "colab_type": "code",
        "colab": {}
      },
      "source": [
        "bow_corpus = [dictionary.doc2bow(doc) for doc in clean_docs]\n",
        "bow_corpus[4310]"
      ],
      "execution_count": null,
      "outputs": []
    },
    {
      "cell_type": "code",
      "metadata": {
        "id": "DEtjGC9obeTf",
        "colab_type": "code",
        "colab": {
          "base_uri": "https://localhost:8080/",
          "height": 1000
        },
        "outputId": "fc7920f2-29ce-441a-fded-71b07c6abea9"
      },
      "source": [
        "bow_doc_4310 = bow_corpus[4310]\n",
        "for i in range(len(bow_doc_4310)):\n",
        "    print(\"Word {} (\\\"{}\\\") appears {} time.\".format(bow_doc_4310[i][0], \n",
        "                                               dictionary[bow_doc_4310[i][0]], \n",
        "bow_doc_4310[i][1]))"
      ],
      "execution_count": null,
      "outputs": [
        {
          "output_type": "stream",
          "text": [
            "Word 22 (\"vitamin\") appears 1 time.\n",
            "Word 33 (\"cosrx\") appears 2 time.\n",
            "Word 36 (\"currently\") appears 1 time.\n",
            "Word 38 (\"dehydrate\") appears 1 time.\n",
            "Word 53 (\"help\") appears 1 time.\n",
            "Word 66 (\"products\") appears 1 time.\n",
            "Word 72 (\"similar\") appears 1 time.\n",
            "Word 81 (\"want\") appears 1 time.\n",
            "Word 83 (\"water\") appears 2 time.\n",
            "Word 111 (\"havent\") appears 1 time.\n",
            "Word 119 (\"list\") appears 1 time.\n",
            "Word 120 (\"micellar\") appears 1 time.\n",
            "Word 124 (\"mouth\") appears 1 time.\n",
            "Word 187 (\"need\") appears 1 time.\n",
            "Word 189 (\"oily\") appears 1 time.\n",
            "Word 204 (\"sure\") appears 1 time.\n",
            "Word 246 (\"maybe\") appears 1 time.\n",
            "Word 249 (\"mucin\") appears 2 time.\n",
            "Word 259 (\"snail\") appears 2 time.\n",
            "Word 260 (\"start\") appears 1 time.\n",
            "Word 267 (\"advance\") appears 2 time.\n",
            "Word 269 (\"aquaphor\") appears 1 time.\n",
            "Word 283 (\"follow\") appears 2 time.\n",
            "Word 298 (\"mask\") appears 1 time.\n",
            "Word 305 (\"pack\") appears 1 time.\n",
            "Word 312 (\"rise\") appears 3 time.\n",
            "Word 331 (\"tone\") appears 1 time.\n",
            "Word 332 (\"toner\") appears 1 time.\n",
            "Word 350 (\"peel\") appears 1 time.\n",
            "Word 353 (\"scrub\") appears 1 time.\n",
            "Word 358 (\"wear\") appears 1 time.\n",
            "Word 368 (\"facial\") appears 1 time.\n",
            "Word 369 (\"glycolic\") appears 1 time.\n",
            "Word 376 (\"solution\") appears 1 time.\n",
            "Word 384 (\"area\") appears 1 time.\n",
            "Word 412 (\"vaseline\") appears 1 time.\n",
            "Word 423 (\"cheek\") appears 1 time.\n",
            "Word 474 (\"hydrate\") appears 1 time.\n",
            "Word 483 (\"open\") appears 1 time.\n",
            "Word 505 (\"treatment\") appears 3 time.\n",
            "Word 515 (\"seed\") appears 1 time.\n",
            "Word 578 (\"hazel\") appears 1 time.\n",
            "Word 586 (\"suggestions\") appears 1 time.\n",
            "Word 587 (\"thayers\") appears 2 time.\n",
            "Word 588 (\"witch\") appears 2 time.\n",
            "Word 623 (\"type\") appears 1 time.\n",
            "Word 652 (\"aloe\") appears 1 time.\n",
            "Word 755 (\"location\") appears 1 time.\n",
            "Word 849 (\"petal\") appears 1 time.\n",
            "Word 937 (\"argan\") appears 1 time.\n",
            "Word 962 (\"garnier\") appears 1 time.\n",
            "Word 975 (\"power\") appears 2 time.\n",
            "Word 1019 (\"dark\") appears 1 time.\n",
            "Word 1164 (\"cotton\") appears 1 time.\n",
            "Word 1469 (\"organic\") appears 2 time.\n",
            "Word 1508 (\"coldpressed\") appears 2 time.\n",
            "Word 2149 (\"caffeine\") appears 1 time.\n",
            "Word 2152 (\"egcg\") appears 1 time.\n",
            "Word 2189 (\"effective\") appears 1 time.\n",
            "Word 2381 (\"remover\") appears 1 time.\n",
            "Word 2444 (\"creamy\") appears 1 time.\n",
            "Word 2469 (\"pmmakeup\") appears 1 time.\n",
            "Word 2628 (\"kiehls\") appears 2 time.\n",
            "Word 2748 (\"oilto\") appears 2 time.\n",
            "Word 2848 (\"topic\") appears 1 time.\n",
            "Word 4883 (\"moroccan\") appears 1 time.\n",
            "Word 5138 (\"essenceserum\") appears 1 time.\n",
            "Word 5698 (\"melasma\") appears 1 time.\n",
            "Word 5906 (\"routineskin\") appears 1 time.\n",
            "Word 5934 (\"alli\") appears 1 time.\n",
            "Word 5935 (\"circlescurrent\") appears 1 time.\n",
            "Word 5936 (\"confusion\") appears 1 time.\n",
            "Word 5937 (\"finalize\") appears 1 time.\n",
            "Word 5938 (\"incorporateto\") appears 1 time.\n",
            "Word 5939 (\"solutionthank\") appears 1 time.\n",
            "Word 5940 (\"solutionto\") appears 1 time.\n",
            "Word 5941 (\"spotty\") appears 1 time.\n"
          ],
          "name": "stdout"
        }
      ]
    },
    {
      "cell_type": "code",
      "metadata": {
        "id": "EwBId1m0bjl-",
        "colab_type": "code",
        "colab": {
          "base_uri": "https://localhost:8080/",
          "height": 408
        },
        "outputId": "2479708b-3c97-4a69-82a1-df1661c358fa"
      },
      "source": [
        "from gensim import corpora, models\n",
        "\n",
        "tfidf = models.TfidfModel(bow_corpus)\n",
        "corpus_tfidf = tfidf[bow_corpus]\n",
        "from pprint import pprint\n",
        "for doc in corpus_tfidf:\n",
        "    pprint(doc)\n",
        "    break"
      ],
      "execution_count": null,
      "outputs": [
        {
          "output_type": "stream",
          "text": [
            "[(0, 0.24084319000817261),\n",
            " (1, 0.15847689172121887),\n",
            " (2, 0.1372428665715738),\n",
            " (3, 0.4124291162025813),\n",
            " (4, 0.14048279090748808),\n",
            " (5, 0.10923375283734865),\n",
            " (6, 0.6062828652769537),\n",
            " (7, 0.224064675800954),\n",
            " (8, 0.1195233150428352),\n",
            " (9, 0.1539089048277597),\n",
            " (10, 0.2065358974420535),\n",
            " (11, 0.07678991109127244),\n",
            " (12, 0.054325297687065774),\n",
            " (13, 0.09869930816149168),\n",
            " (14, 0.10804467633750069),\n",
            " (15, 0.1730942428803265),\n",
            " (16, 0.11246624680273257),\n",
            " (17, 0.1790593937037358),\n",
            " (18, 0.12078721155335526),\n",
            " (19, 0.13675005744258756),\n",
            " (20, 0.18982281389294625),\n",
            " (21, 0.12890965462773582),\n",
            " (22, 0.08359354141191266)]\n"
          ],
          "name": "stdout"
        }
      ]
    },
    {
      "cell_type": "markdown",
      "metadata": {
        "id": "aCKmGWE3bphM",
        "colab_type": "text"
      },
      "source": [
        "Running LDA \n",
        "\n",
        "```\n",
        "# This is formatted as code\n",
        "```\n",
        "\n"
      ]
    },
    {
      "cell_type": "code",
      "metadata": {
        "id": "-YoCIWk1bmxG",
        "colab_type": "code",
        "colab": {
          "base_uri": "https://localhost:8080/",
          "height": 122
        },
        "outputId": "ebb8db3d-f0af-4cd1-e2ac-50ef8e344631"
      },
      "source": [
        "lda_model_tfidf = gensim.models.LdaMulticore(corpus_tfidf, num_topics=5, id2word=dictionary, passes=3, workers=4)\n",
        "for idx, topic in lda_model_tfidf.print_topics(-1):\n",
        "    print('Topic: {} Word: {}'.format(idx, topic))"
      ],
      "execution_count": null,
      "outputs": [
        {
          "output_type": "stream",
          "text": [
            "Topic: 0 Word: 0.007*\"sodium\" + 0.007*\"extract\" + 0.006*\"ingredients\" + 0.005*\"ceramide\" + 0.005*\"alcohol\" + 0.004*\"glycerin\" + 0.004*\"phosphate\" + 0.004*\"dimethicone\" + 0.004*\"glycol\" + 0.004*\"cetearyl\"\n",
            "Topic: 1 Word: 0.007*\"ordinary\" + 0.004*\"solution\" + 0.004*\"hormonal\" + 0.004*\"mask\" + 0.004*\"serum\" + 0.003*\"vitamin\" + 0.003*\"facial\" + 0.003*\"zinc\" + 0.003*\"glycolic\" + 0.003*\"niacinamide\"\n",
            "Topic: 2 Word: 0.003*\"toner\" + 0.003*\"moisturizer\" + 0.003*\"cream\" + 0.003*\"hydrate\" + 0.003*\"cleanse\" + 0.003*\"apply\" + 0.003*\"moisturize\" + 0.003*\"sunscreen\" + 0.003*\"water\" + 0.003*\"wash\"\n",
            "Topic: 3 Word: 0.003*\"start\" + 0.003*\"help\" + 0.003*\"wash\" + 0.003*\"work\" + 0.003*\"feel\" + 0.003*\"try\" + 0.003*\"moisturizer\" + 0.003*\"dont\" + 0.002*\"products\" + 0.002*\"go\"\n",
            "Topic: 4 Word: 0.005*\"essence\" + 0.005*\"cream\" + 0.004*\"hyaluronic\" + 0.004*\"cosrx\" + 0.004*\"toner\" + 0.004*\"hydrate\" + 0.004*\"labo\" + 0.004*\"mask\" + 0.004*\"hada\" + 0.004*\"love\"\n"
          ],
          "name": "stdout"
        }
      ]
    },
    {
      "cell_type": "code",
      "metadata": {
        "id": "5LsFAFaJb0Z_",
        "colab_type": "code",
        "colab": {}
      },
      "source": [
        "vecs = []\n",
        "for i in range(len(clean_docs)):\n",
        "    top_topics = lda_model_tfidf.get_document_topics(bow_corpus[i], minimum_probability=0.0)\n",
        "    topic_vec = [top_topics[i][1] for i in range(5)]\n",
        "    vecs.append(topic_vec)"
      ],
      "execution_count": null,
      "outputs": []
    },
    {
      "cell_type": "code",
      "metadata": {
        "id": "HEfUNvD2b1Sh",
        "colab_type": "code",
        "colab": {
          "base_uri": "https://localhost:8080/",
          "height": 34
        },
        "outputId": "319e3270-86f7-4fd5-8170-abc77bfb69a8"
      },
      "source": [
        "len(vecs)"
      ],
      "execution_count": null,
      "outputs": [
        {
          "output_type": "execute_result",
          "data": {
            "text/plain": [
              "115248"
            ]
          },
          "metadata": {
            "tags": []
          },
          "execution_count": 18
        }
      ]
    },
    {
      "cell_type": "code",
      "metadata": {
        "id": "MO4Kkh6Ab6GH",
        "colab_type": "code",
        "colab": {}
      },
      "source": [
        "pd.to_pickle(vecs, 'topic_vector1.pkl')"
      ],
      "execution_count": null,
      "outputs": []
    }
  ]
}