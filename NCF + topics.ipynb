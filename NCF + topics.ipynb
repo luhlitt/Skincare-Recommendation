{
  "nbformat": 4,
  "nbformat_minor": 0,
  "metadata": {
    "colab": {
      "name": "HFT ",
      "provenance": []
    },
    "kernelspec": {
      "name": "python3",
      "display_name": "Python 3"
    }
  },
  "cells": [
    {
      "cell_type": "markdown",
      "metadata": {
        "id": "ERZNJAL5gZ6f",
        "colab_type": "text"
      },
      "source": [
        "Topics + ratings"
      ]
    },
    {
      "cell_type": "code",
      "metadata": {
        "id": "wrkjoVpJiMrc",
        "colab_type": "code",
        "colab": {
          "base_uri": "https://localhost:8080/",
          "height": 51
        },
        "outputId": "82df1193-684c-4728-b27d-a8a5308b54bc"
      },
      "source": [
        "from google.colab import drive\n",
        "drive.mount('/content/gdrive')\n",
        "\n",
        "%cd /content/gdrive/My\\ Drive/"
      ],
      "execution_count": null,
      "outputs": [
        {
          "output_type": "stream",
          "text": [
            "Drive already mounted at /content/gdrive; to attempt to forcibly remount, call drive.mount(\"/content/gdrive\", force_remount=True).\n",
            "/content/gdrive/My Drive\n"
          ],
          "name": "stdout"
        }
      ]
    },
    {
      "cell_type": "code",
      "metadata": {
        "id": "gKN31dPkKvZ3",
        "colab_type": "code",
        "colab": {}
      },
      "source": [
        "import pickle\n",
        "from __future__ import print_function, division\n",
        "from builtins import range, input\n",
        "# Note: you may need to update your version of future\n",
        "# sudo pip install -U future\n",
        "\n",
        "import pickle\n",
        "import numpy as np\n",
        "import pandas as pd\n",
        "import matplotlib.pyplot as plt\n",
        "from sklearn.utils import shuffle\n",
        "\n",
        "from keras.models import Model\n",
        "from keras.layers import Input, Embedding, Flatten, Dense, Concatenate, LSTM\n",
        "from keras.layers import Dropout, BatchNormalization, Activation\n",
        "from keras.regularizers import l2\n",
        "from keras.optimizers import SGD, Adam"
      ],
      "execution_count": null,
      "outputs": []
    },
    {
      "cell_type": "code",
      "metadata": {
        "id": "_NfYAF9Qnjk8",
        "colab_type": "code",
        "colab": {}
      },
      "source": [
        "# load in the data\n",
        "with open('edited5.pkl', 'rb') as f:\n",
        "  dataset = pickle.load(f)\n",
        "dataset\n",
        "\n",
        "with open('topic_vector1.pkl', 'rb') as f:\n",
        "  topics = pickle.load(f)\n",
        "topics"
      ],
      "execution_count": null,
      "outputs": []
    },
    {
      "cell_type": "code",
      "metadata": {
        "id": "gHBvHZ_AtMxb",
        "colab_type": "code",
        "colab": {}
      },
      "source": [
        "df = pd.DataFrame(dataset)"
      ],
      "execution_count": null,
      "outputs": []
    },
    {
      "cell_type": "code",
      "metadata": {
        "id": "YFMLdqhJNvj5",
        "colab_type": "code",
        "colab": {}
      },
      "source": [
        "tp = []\n",
        "for i in topics:\n",
        "  tp.append(np.array(i))"
      ],
      "execution_count": null,
      "outputs": []
    },
    {
      "cell_type": "code",
      "metadata": {
        "id": "1Ayyng7BOKEb",
        "colab_type": "code",
        "colab": {}
      },
      "source": [
        "tp = np.array(tp)"
      ],
      "execution_count": null,
      "outputs": []
    },
    {
      "cell_type": "code",
      "metadata": {
        "id": "RjchnI83LeLQ",
        "colab_type": "code",
        "colab": {}
      },
      "source": [
        "N = df.userId.max() + 1 # number of users\n",
        "M = df.product_idx.max() + 1 # number of prouct"
      ],
      "execution_count": null,
      "outputs": []
    },
    {
      "cell_type": "code",
      "metadata": {
        "id": "B3JyMwsnLg8v",
        "colab_type": "code",
        "colab": {}
      },
      "source": [
        "# split into train and test\n",
        "from sklearn.model_selection import train_test_split\n",
        "df_train, df_test, tp_train, tp_test = train_test_split(df, tp, test_size=0.2, random_state = 42)"
      ],
      "execution_count": null,
      "outputs": []
    },
    {
      "cell_type": "code",
      "metadata": {
        "id": "KQ0LvHFndN7P",
        "colab_type": "code",
        "colab": {}
      },
      "source": [
        "# initialize variables\n",
        "K = 10 # latent dimensionality\n",
        "mu = df_train.rating.mean()\n",
        "epochs = 10\n",
        "reg = 0.0001 # regularization penalty"
      ],
      "execution_count": null,
      "outputs": []
    },
    {
      "cell_type": "code",
      "metadata": {
        "id": "rxxfwkiXij0q",
        "colab_type": "code",
        "colab": {}
      },
      "source": [
        "# keras model\n",
        "u = Input(shape=(1,))\n",
        "m = Input(shape=(1,))\n",
        "u_embedding = Embedding(N, K)(u) # (N, 1, K)\n",
        "m_embedding = Embedding(M, K)(m) # (N, 1, K)\n",
        "u_embedding = Flatten()(u_embedding) # (N, K)\n",
        "m_embedding = Flatten()(m_embedding) # (N, K)\n",
        "x = Concatenate()([u_embedding, m_embedding]) # (N, 2K)\n",
        "\n",
        "topic_input = Input(shape=(5, ))\n",
        "topic_final = Dense(5, name =\"topic_vector\")(topic_input)\n",
        "\n",
        "merged = Concatenate()([x, topic_final])\n",
        "\n",
        "# the neural network\n",
        "x = Dense(400)(merged)\n",
        "x = BatchNormalization()(x)\n",
        "x = Activation('relu')(x)\n",
        "x = Dropout(0.5)(x)\n",
        "x = Dense(100)(x)\n",
        "# x = BatchNormalization()(x)\n",
        "x = Activation('relu')(x)\n",
        "x = Dense(1)(x)\n",
        "\n",
        "model = Model(inputs=[u, m, topic_input], outputs=x)\n",
        "model.compile(\n",
        "  loss='mse',\n",
        "  # optimizer='adam',\n",
        "  # optimizer=Adam(lr=0.01),\n",
        "  optimizer=SGD(lr=0.08, momentum=0.9),\n",
        "  metrics=['mean_squared_error'],\n",
        ")\n",
        "model.summary()\n"
      ],
      "execution_count": null,
      "outputs": []
    },
    {
      "cell_type": "code",
      "metadata": {
        "id": "6kxWMGinUJMQ",
        "colab_type": "code",
        "colab": {}
      },
      "source": [
        "import tensorflow as tf\n",
        "tf.keras.utils.plot_model(model, to_file='model.png', show_shapes=True, show_layer_names=True\n",
        ")"
      ],
      "execution_count": null,
      "outputs": []
    },
    {
      "cell_type": "code",
      "metadata": {
        "id": "6f8a7NPQNBA3",
        "colab_type": "code",
        "colab": {
          "base_uri": "https://localhost:8080/",
          "height": 873
        },
        "outputId": "0399ac98-c8b0-41b5-e5ac-6c7f9e0074bf"
      },
      "source": [
        "r = model.fit(\n",
        "  x=[df_train.userId.values, df_train.product_idx.values, tp_train],\n",
        "  y=df_train.rating.values - mu,\n",
        "  epochs=epochs,\n",
        "  batch_size=128,\n",
        "  validation_data=(\n",
        "    [df_test.userId.values, df_test.product_idx.values, tp_test],\n",
        "    df_test.rating.values - mu\n",
        "  )\n",
        ")\n",
        "\n",
        "\n",
        "# plot losses\n",
        "plt.plot(r.history['loss'], label=\"train loss\")\n",
        "plt.plot(r.history['val_loss'], label=\"test loss\")\n",
        "plt.legend()\n",
        "plt.show()\n",
        "\n",
        "# plot mse\n",
        "plt.plot(r.history['mean_squared_error'], label=\"train mse\")\n",
        "plt.plot(r.history['val_mean_squared_error'], label=\"test mse\")\n",
        "plt.legend()\n",
        "plt.show()"
      ],
      "execution_count": null,
      "outputs": [
        {
          "output_type": "stream",
          "text": [
            "Epoch 1/10\n",
            "721/721 [==============================] - 4s 5ms/step - loss: 0.5616 - mean_squared_error: 0.5616 - val_loss: 0.4801 - val_mean_squared_error: 0.4801\n",
            "Epoch 2/10\n",
            "721/721 [==============================] - 3s 5ms/step - loss: 0.4797 - mean_squared_error: 0.4797 - val_loss: 0.4802 - val_mean_squared_error: 0.4802\n",
            "Epoch 3/10\n",
            "721/721 [==============================] - 3s 5ms/step - loss: 0.4809 - mean_squared_error: 0.4809 - val_loss: 0.4813 - val_mean_squared_error: 0.4813\n",
            "Epoch 4/10\n",
            "721/721 [==============================] - 3s 5ms/step - loss: 0.4800 - mean_squared_error: 0.4800 - val_loss: 0.4942 - val_mean_squared_error: 0.4942\n",
            "Epoch 5/10\n",
            "721/721 [==============================] - 3s 5ms/step - loss: 0.4797 - mean_squared_error: 0.4797 - val_loss: 0.4808 - val_mean_squared_error: 0.4808\n",
            "Epoch 6/10\n",
            "721/721 [==============================] - 4s 5ms/step - loss: 0.4796 - mean_squared_error: 0.4796 - val_loss: 0.4830 - val_mean_squared_error: 0.4830\n",
            "Epoch 7/10\n",
            "721/721 [==============================] - 3s 5ms/step - loss: 0.4804 - mean_squared_error: 0.4804 - val_loss: 0.4804 - val_mean_squared_error: 0.4804\n",
            "Epoch 8/10\n",
            "721/721 [==============================] - 3s 5ms/step - loss: 0.4810 - mean_squared_error: 0.4810 - val_loss: 0.4819 - val_mean_squared_error: 0.4819\n",
            "Epoch 9/10\n",
            "721/721 [==============================] - 3s 5ms/step - loss: 0.4801 - mean_squared_error: 0.4801 - val_loss: 0.4852 - val_mean_squared_error: 0.4852\n",
            "Epoch 10/10\n",
            "721/721 [==============================] - 3s 5ms/step - loss: 0.4803 - mean_squared_error: 0.4803 - val_loss: 0.4809 - val_mean_squared_error: 0.4809\n"
          ],
          "name": "stdout"
        },
        {
          "output_type": "display_data",
          "data": {
            "image/png": "[encoded data removed]",
            "text/plain": [
              "<Figure size 432x288 with 1 Axes>"
            ]
          },
          "metadata": {
            "tags": [],
            "needs_background": "light"
          }
        },
        {
          "output_type": "display_data",
          "data": {
            "image/png": "[encoded data removed]",
            "text/plain": [
              "<Figure size 432x288 with 1 Axes>"
            ]
          },
          "metadata": {
            "tags": [],
            "needs_background": "light"
          }
        }
      ]
    },
    {
      "cell_type": "code",
      "metadata": {
        "id": "9Z-KEIn4TwA0",
        "colab_type": "code",
        "colab": {
          "base_uri": "https://localhost:8080/",
          "height": 51
        },
        "outputId": "8032867b-6063-433d-ba7b-ad829c197698"
      },
      "source": [
        "model.evaluate([df_test.userId.values, df_test.product_idx.values, tp_test], df_test.rating.values)"
      ],
      "execution_count": null,
      "outputs": [
        {
          "output_type": "stream",
          "text": [
            "721/721 [==============================] - 1s 1ms/step - loss: 0.8489 - mean_squared_error: 0.8489\n"
          ],
          "name": "stdout"
        },
        {
          "output_type": "execute_result",
          "data": {
            "text/plain": [
              "[0.8488882780075073, 0.8488882780075073]"
            ]
          },
          "metadata": {
            "tags": []
          },
          "execution_count": 65
        }
      ]
    },
    {
      "cell_type": "code",
      "metadata": {
        "id": "2p0ZL6K8r1mW",
        "colab_type": "code",
        "colab": {}
      },
      "source": [
        "# from keras.utils import plot_model\n",
        "# plot_model(model)"
      ],
      "execution_count": null,
      "outputs": []
    },
    {
      "cell_type": "code",
      "metadata": {
        "id": "bebk5qrgsUpz",
        "colab_type": "code",
        "colab": {}
      },
      "source": [
        ""
      ],
      "execution_count": null,
      "outputs": []
    }
  ]
}