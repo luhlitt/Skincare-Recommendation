{
  "nbformat": 4,
  "nbformat_minor": 0,
  "metadata": {
    "colab": {
      "name": "NCF",
      "provenance": []
    },
    "kernelspec": {
      "name": "python3",
      "display_name": "Python 3"
    }
  },
  "cells": [
    {
      "cell_type": "markdown",
      "metadata": {
        "id": "ULBzQ_5NlvP2",
        "colab_type": "text"
      },
      "source": [
        "NCF uses neural network to model the interaction between users and items."
      ]
    },
    {
      "cell_type": "code",
      "metadata": {
        "id": "wrkjoVpJiMrc",
        "colab_type": "code",
        "colab": {
          "base_uri": "https://localhost:8080/",
          "height": 51
        },
        "outputId": "38b02e9e-1a11-4d7c-af6a-29da35b5952e"
      },
      "source": [
        "from google.colab import drive\n",
        "drive.mount('/content/gdrive')\n",
        "\n",
        "%cd /content/gdrive/My\\ Drive/"
      ],
      "execution_count": 2,
      "outputs": [
        {
          "output_type": "stream",
          "text": [
            "Drive already mounted at /content/gdrive; to attempt to forcibly remount, call drive.mount(\"/content/gdrive\", force_remount=True).\n",
            "/content/gdrive/My Drive\n"
          ],
          "name": "stdout"
        }
      ]
    },
    {
      "cell_type": "code",
      "metadata": {
        "id": "_NfYAF9Qnjk8",
        "colab_type": "code",
        "colab": {
          "base_uri": "https://localhost:8080/",
          "height": 419
        },
        "outputId": "4afd72d6-26f5-41a8-f0e7-705b649aa1f6"
      },
      "source": [
        "import pandas as pd\n",
        "# df = pd.read_csv('skin_dataset3.csv')\n",
        "df = pd.read_csv('edited_rating4.csv')\n",
        "df"
      ],
      "execution_count": 3,
      "outputs": [
        {
          "output_type": "execute_result",
          "data": {
            "text/html": [
              "<div>\n",
              "<style scoped>\n",
              "    .dataframe tbody tr th:only-of-type {\n",
              "        vertical-align: middle;\n",
              "    }\n",
              "\n",
              "    .dataframe tbody tr th {\n",
              "        vertical-align: top;\n",
              "    }\n",
              "\n",
              "    .dataframe thead th {\n",
              "        text-align: right;\n",
              "    }\n",
              "</style>\n",
              "<table border=\"1\" class=\"dataframe\">\n",
              "  <thead>\n",
              "    <tr style=\"text-align: right;\">\n",
              "      <th></th>\n",
              "      <th>user_id</th>\n",
              "      <th>product_id</th>\n",
              "      <th>product_name</th>\n",
              "      <th>skin_type</th>\n",
              "      <th>rating</th>\n",
              "      <th>userId</th>\n",
              "      <th>product_idx</th>\n",
              "    </tr>\n",
              "  </thead>\n",
              "  <tbody>\n",
              "    <tr>\n",
              "      <th>0</th>\n",
              "      <td>1</td>\n",
              "      <td>1</td>\n",
              "      <td>Vitamin C Serum</td>\n",
              "      <td>acne</td>\n",
              "      <td>0.9798</td>\n",
              "      <td>0</td>\n",
              "      <td>0</td>\n",
              "    </tr>\n",
              "    <tr>\n",
              "      <th>1</th>\n",
              "      <td>1</td>\n",
              "      <td>2</td>\n",
              "      <td>The Ordinary</td>\n",
              "      <td>acne</td>\n",
              "      <td>0.9798</td>\n",
              "      <td>0</td>\n",
              "      <td>1</td>\n",
              "    </tr>\n",
              "    <tr>\n",
              "      <th>2</th>\n",
              "      <td>1</td>\n",
              "      <td>3</td>\n",
              "      <td>niacinamide</td>\n",
              "      <td>acne</td>\n",
              "      <td>0.9798</td>\n",
              "      <td>0</td>\n",
              "      <td>2</td>\n",
              "    </tr>\n",
              "    <tr>\n",
              "      <th>3</th>\n",
              "      <td>1</td>\n",
              "      <td>4</td>\n",
              "      <td>salicylic acid</td>\n",
              "      <td>acne</td>\n",
              "      <td>0.9798</td>\n",
              "      <td>0</td>\n",
              "      <td>3</td>\n",
              "    </tr>\n",
              "    <tr>\n",
              "      <th>4</th>\n",
              "      <td>1</td>\n",
              "      <td>5</td>\n",
              "      <td>vitamin C</td>\n",
              "      <td>acne</td>\n",
              "      <td>0.9798</td>\n",
              "      <td>0</td>\n",
              "      <td>4</td>\n",
              "    </tr>\n",
              "    <tr>\n",
              "      <th>...</th>\n",
              "      <td>...</td>\n",
              "      <td>...</td>\n",
              "      <td>...</td>\n",
              "      <td>...</td>\n",
              "      <td>...</td>\n",
              "      <td>...</td>\n",
              "      <td>...</td>\n",
              "    </tr>\n",
              "    <tr>\n",
              "      <th>115243</th>\n",
              "      <td>23122</td>\n",
              "      <td>4</td>\n",
              "      <td>salicylic acid</td>\n",
              "      <td>acne</td>\n",
              "      <td>0.9872</td>\n",
              "      <td>23121</td>\n",
              "      <td>3</td>\n",
              "    </tr>\n",
              "    <tr>\n",
              "      <th>115244</th>\n",
              "      <td>23122</td>\n",
              "      <td>5</td>\n",
              "      <td>vitamin C</td>\n",
              "      <td>acne</td>\n",
              "      <td>0.9872</td>\n",
              "      <td>23121</td>\n",
              "      <td>4</td>\n",
              "    </tr>\n",
              "    <tr>\n",
              "      <th>115245</th>\n",
              "      <td>23123</td>\n",
              "      <td>15</td>\n",
              "      <td>cerave</td>\n",
              "      <td>acne</td>\n",
              "      <td>-0.8552</td>\n",
              "      <td>23122</td>\n",
              "      <td>14</td>\n",
              "    </tr>\n",
              "    <tr>\n",
              "      <th>115246</th>\n",
              "      <td>23123</td>\n",
              "      <td>4</td>\n",
              "      <td>salicylic acid</td>\n",
              "      <td>acne</td>\n",
              "      <td>-0.8552</td>\n",
              "      <td>23122</td>\n",
              "      <td>3</td>\n",
              "    </tr>\n",
              "    <tr>\n",
              "      <th>115247</th>\n",
              "      <td>23123</td>\n",
              "      <td>11</td>\n",
              "      <td>retinoid</td>\n",
              "      <td>acne</td>\n",
              "      <td>-0.8552</td>\n",
              "      <td>23122</td>\n",
              "      <td>10</td>\n",
              "    </tr>\n",
              "  </tbody>\n",
              "</table>\n",
              "<p>115248 rows × 7 columns</p>\n",
              "</div>"
            ],
            "text/plain": [
              "        user_id  product_id     product_name  ...  rating  userId  product_idx\n",
              "0             1           1  Vitamin C Serum  ...  0.9798       0            0\n",
              "1             1           2     The Ordinary  ...  0.9798       0            1\n",
              "2             1           3      niacinamide  ...  0.9798       0            2\n",
              "3             1           4   salicylic acid  ...  0.9798       0            3\n",
              "4             1           5        vitamin C  ...  0.9798       0            4\n",
              "...         ...         ...              ...  ...     ...     ...          ...\n",
              "115243    23122           4   salicylic acid  ...  0.9872   23121            3\n",
              "115244    23122           5        vitamin C  ...  0.9872   23121            4\n",
              "115245    23123          15           cerave  ... -0.8552   23122           14\n",
              "115246    23123           4   salicylic acid  ... -0.8552   23122            3\n",
              "115247    23123          11         retinoid  ... -0.8552   23122           10\n",
              "\n",
              "[115248 rows x 7 columns]"
            ]
          },
          "metadata": {
            "tags": []
          },
          "execution_count": 3
        }
      ]
    },
    {
      "cell_type": "code",
      "metadata": {
        "id": "gHBvHZ_AtMxb",
        "colab_type": "code",
        "colab": {}
      },
      "source": [
        ""
      ],
      "execution_count": null,
      "outputs": []
    },
    {
      "cell_type": "code",
      "metadata": {
        "id": "rxxfwkiXij0q",
        "colab_type": "code",
        "colab": {
          "base_uri": "https://localhost:8080/",
          "height": 879
        },
        "outputId": "0c123db6-22f1-46d1-ea29-e118b210d43b"
      },
      "source": [
        "from __future__ import print_function, division\n",
        "from builtins import range, input\n",
        "# Note: you may need to update your version of future\n",
        "# sudo pip install -U future\n",
        "\n",
        "import pickle\n",
        "import numpy as np\n",
        "import pandas as pd\n",
        "import matplotlib.pyplot as plt\n",
        "from sklearn.utils import shuffle\n",
        "\n",
        "from keras.models import Model\n",
        "from keras.layers import Input, Embedding, Flatten, Dense, Concatenate\n",
        "from keras.layers import Dropout, BatchNormalization, Activation\n",
        "from keras.regularizers import l2\n",
        "from keras.optimizers import SGD, Adam\n",
        "\n",
        "# load in the data\n",
        "# df = pd.read_csv('amazon_beauty_edited_ratings.csv')\n",
        "\n",
        "N = df.userId.max() + 1 # number of users\n",
        "M = df.product_idx.max() + 1 # number of prouct\n",
        "\n",
        "# split into train and test\n",
        "df = shuffle(df)\n",
        "cutoff = int(0.8*len(df))\n",
        "df_train = df.iloc[:cutoff]\n",
        "df_test = df.iloc[cutoff:]\n",
        "\n",
        "# initialize variables\n",
        "K = 10 # latent dimensionality\n",
        "mu = df_train.rating.mean()\n",
        "epochs = 10\n",
        "reg = 0.0001 # regularization penalty\n",
        "\n",
        "\n",
        "# keras model\n",
        "u = Input(shape=(1,), name='Users')\n",
        "m = Input(shape=(1,), name='Items')\n",
        "u_embedding = Embedding(N, K)(u) # (N, 1, K)\n",
        "m_embedding = Embedding(M, K)(m) # (N, 1, K)\n",
        "u_embedding = Flatten()(u_embedding) # (N, K)\n",
        "m_embedding = Flatten()(m_embedding) # (N, K)\n",
        "x = Concatenate()([u_embedding, m_embedding]) # (N, 2K)\n",
        "\n",
        "# the neural network\n",
        "x = Dense(400)(x)\n",
        "x = BatchNormalization()(x)\n",
        "x = Activation('relu')(x)\n",
        "x = Dropout(0.5)(x)\n",
        "x = Dense(100)(x)\n",
        "# x = BatchNormalization()(x)\n",
        "x = Activation('relu')(x)\n",
        "x = Dense(1)(x)\n",
        "\n",
        "model = Model(inputs=[u, m], outputs=x)\n",
        "model.compile(\n",
        "  loss='mse',\n",
        "  # optimizer='adam',\n",
        "  # optimizer=Adam(lr=0.01),\n",
        "  optimizer=SGD(lr=0.08, momentum=0.9),\n",
        "  metrics=['mean_squared_error'],\n",
        ")\n",
        "\n",
        "r = model.fit(\n",
        "  x=[df_train.userId.values, df_train.product_idx.values],\n",
        "  y=df_train.rating.values - mu,\n",
        "  epochs=epochs,\n",
        "  batch_size=128,\n",
        "  validation_data=(\n",
        "    [df_test.userId.values, df_test.product_idx.values],\n",
        "    df_test.rating.values - mu\n",
        "  )\n",
        ")\n",
        "\n",
        "\n",
        "# plot losses\n",
        "plt.plot(r.history['loss'], label=\"train loss\")\n",
        "plt.plot(r.history['val_loss'], label=\"test loss\")\n",
        "plt.legend()\n",
        "plt.show()\n",
        "\n",
        "# plot mse\n",
        "plt.plot(r.history['mean_squared_error'], label=\"train mse\")\n",
        "plt.plot(r.history['val_mean_squared_error'], label=\"test mse\")\n",
        "plt.legend()\n",
        "plt.show()\n",
        "\n"
      ],
      "execution_count": 4,
      "outputs": [
        {
          "output_type": "stream",
          "text": [
            "Epoch 1/10\n",
            "721/721 [==============================] - 3s 5ms/step - loss: 0.4794 - mean_squared_error: 0.4794 - val_loss: 0.4634 - val_mean_squared_error: 0.4634\n",
            "Epoch 2/10\n",
            "721/721 [==============================] - 3s 5ms/step - loss: 0.3709 - mean_squared_error: 0.3709 - val_loss: 0.2623 - val_mean_squared_error: 0.2623\n",
            "Epoch 3/10\n",
            "721/721 [==============================] - 3s 4ms/step - loss: 0.1412 - mean_squared_error: 0.1412 - val_loss: 0.1278 - val_mean_squared_error: 0.1278\n",
            "Epoch 4/10\n",
            "721/721 [==============================] - 3s 5ms/step - loss: 0.0521 - mean_squared_error: 0.0521 - val_loss: 0.0653 - val_mean_squared_error: 0.0653\n",
            "Epoch 5/10\n",
            "721/721 [==============================] - 4s 5ms/step - loss: 0.0309 - mean_squared_error: 0.0309 - val_loss: 0.0475 - val_mean_squared_error: 0.0475\n",
            "Epoch 6/10\n",
            "721/721 [==============================] - 4s 5ms/step - loss: 0.0223 - mean_squared_error: 0.0223 - val_loss: 0.0440 - val_mean_squared_error: 0.0440\n",
            "Epoch 7/10\n",
            "721/721 [==============================] - 3s 5ms/step - loss: 0.0179 - mean_squared_error: 0.0179 - val_loss: 0.0418 - val_mean_squared_error: 0.0418\n",
            "Epoch 8/10\n",
            "721/721 [==============================] - 3s 4ms/step - loss: 0.0139 - mean_squared_error: 0.0139 - val_loss: 0.0301 - val_mean_squared_error: 0.0301\n",
            "Epoch 9/10\n",
            "721/721 [==============================] - 3s 4ms/step - loss: 0.0116 - mean_squared_error: 0.0116 - val_loss: 0.0251 - val_mean_squared_error: 0.0251\n",
            "Epoch 10/10\n",
            "721/721 [==============================] - 3s 5ms/step - loss: 0.0092 - mean_squared_error: 0.0092 - val_loss: 0.0244 - val_mean_squared_error: 0.0244\n"
          ],
          "name": "stdout"
        },
        {
          "output_type": "display_data",
          "data": {
            "image/png": "[encoded data removed]",
            "text/plain": [
              "<Figure size 432x288 with 1 Axes>"
            ]
          },
          "metadata": {
            "tags": [],
            "needs_background": "light"
          }
        },
        {
          "output_type": "display_data",
          "data": {
            "image/png": "[encoded data removed]",
            "text/plain": [
              "<Figure size 432x288 with 1 Axes>"
            ]
          },
          "metadata": {
            "tags": [],
            "needs_background": "light"
          }
        }
      ]
    },
    {
      "cell_type": "code",
      "metadata": {
        "id": "9Z-KEIn4TwA0",
        "colab_type": "code",
        "colab": {
          "base_uri": "https://localhost:8080/",
          "height": 51
        },
        "outputId": "2c323566-4625-479e-b515-f7efe6faea1d"
      },
      "source": [
        "model.evaluate([df_test.userId.values, df_test.product_idx.values], df_test.rating.values)"
      ],
      "execution_count": 5,
      "outputs": [
        {
          "output_type": "stream",
          "text": [
            "721/721 [==============================] - 1s 1ms/step - loss: 0.3142 - mean_squared_error: 0.3142\n"
          ],
          "name": "stdout"
        },
        {
          "output_type": "execute_result",
          "data": {
            "text/plain": [
              "[0.31415855884552, 0.31415855884552]"
            ]
          },
          "metadata": {
            "tags": []
          },
          "execution_count": 5
        }
      ]
    },
    {
      "cell_type": "markdown",
      "metadata": {
        "id": "OnrdoQg6Npeq",
        "colab_type": "text"
      },
      "source": [
        "# Recommending Products"
      ]
    },
    {
      "cell_type": "code",
      "metadata": {
        "id": "yajXCknLTv6W",
        "colab_type": "code",
        "colab": {
          "base_uri": "https://localhost:8080/",
          "height": 170
        },
        "outputId": "9e55c725-4642-49f7-ccd8-01e78e53e761"
      },
      "source": [
        "predictions = model.predict([df_test.userId.values, df_test.product_idx.values])\n",
        "\n",
        "[print(predictions[i], df_test.rating.iloc[i]) for i in range(0,8)]\n",
        "# [print(predictions[2], df_test.rating.iloc[2])]"
      ],
      "execution_count": 6,
      "outputs": [
        {
          "output_type": "stream",
          "text": [
            "[0.41215542] 0.9990000000000001\n",
            "[-1.2031271] -0.2223\n",
            "[0.05370009] 0.7514\n",
            "[0.41461867] 0.9972\n",
            "[0.39499652] 0.986\n",
            "[0.3738606] 0.9940000000000001\n",
            "[0.3988468] 0.8201\n",
            "[0.41417596] 0.9617\n"
          ],
          "name": "stdout"
        },
        {
          "output_type": "execute_result",
          "data": {
            "text/plain": [
              "[None, None, None, None, None, None, None, None]"
            ]
          },
          "metadata": {
            "tags": []
          },
          "execution_count": 6
        }
      ]
    },
    {
      "cell_type": "code",
      "metadata": {
        "id": "6kxWMGinUJMQ",
        "colab_type": "code",
        "colab": {}
      },
      "source": [
        "# import tensorflow as tf\n",
        "# tf.keras.utils.plot_model(model, to_file='model.png', show_shapes=False, show_layer_names=True\n",
        "# )"
      ],
      "execution_count": null,
      "outputs": []
    },
    {
      "cell_type": "markdown",
      "metadata": {
        "id": "GI4kWwShic1a",
        "colab_type": "text"
      },
      "source": [
        "# Recommending products"
      ]
    },
    {
      "cell_type": "code",
      "metadata": {
        "id": "TvipKQSDwIH_",
        "colab_type": "code",
        "colab": {}
      },
      "source": [
        "dataset = pd.read_csv('edited_rating4.csv')\n"
      ],
      "execution_count": 7,
      "outputs": []
    },
    {
      "cell_type": "code",
      "metadata": {
        "id": "HX2WUu4z5_I5",
        "colab_type": "code",
        "colab": {}
      },
      "source": [
        "productdata = np.array(list(set(dataset.product_idx)))\n",
        "productdata"
      ],
      "execution_count": null,
      "outputs": []
    },
    {
      "cell_type": "code",
      "metadata": {
        "id": "lvZ8wcai6LVf",
        "colab_type": "code",
        "colab": {}
      },
      "source": [
        "userdata = np.array([6 for i in range(len(productdata))])\n",
        "userdata"
      ],
      "execution_count": null,
      "outputs": []
    },
    {
      "cell_type": "code",
      "metadata": {
        "id": "9VOQFv_a6PQC",
        "colab_type": "code",
        "colab": {
          "base_uri": "https://localhost:8080/",
          "height": 34
        },
        "outputId": "69b2c399-984d-4f28-b5f4-858590d5e5dd"
      },
      "source": [
        "predictions = model.predict([userdata, productdata])\n",
        "predictions = np.array([a[0] for a in predictions])\n",
        "\n",
        "recommendedproducts = (-predictions).argsort()[:8]\n",
        "recommendedproducts"
      ],
      "execution_count": 10,
      "outputs": [
        {
          "output_type": "execute_result",
          "data": {
            "text/plain": [
              "array([767, 455, 311, 741, 813, 420, 645, 484])"
            ]
          },
          "metadata": {
            "tags": []
          },
          "execution_count": 10
        }
      ]
    },
    {
      "cell_type": "code",
      "metadata": {
        "id": "-hymT90K6VvO",
        "colab_type": "code",
        "colab": {
          "base_uri": "https://localhost:8080/",
          "height": 51
        },
        "outputId": "59fc61c9-e9c2-4d78-8a9c-446324ce5bd1"
      },
      "source": [
        "predictions[recommendedproducts]"
      ],
      "execution_count": 11,
      "outputs": [
        {
          "output_type": "execute_result",
          "data": {
            "text/plain": [
              "array([0.4222728 , 0.41980737, 0.419567  , 0.41954276, 0.41931012,\n",
              "       0.4192974 , 0.41917273, 0.41908205], dtype=float32)"
            ]
          },
          "metadata": {
            "tags": []
          },
          "execution_count": 11
        }
      ]
    },
    {
      "cell_type": "markdown",
      "metadata": {
        "id": "FTWsIPDs6cjh",
        "colab_type": "text"
      },
      "source": [
        "dictionary of products and their index"
      ]
    },
    {
      "cell_type": "markdown",
      "metadata": {
        "id": "CJ3x_Zc0bP3e",
        "colab_type": "text"
      },
      "source": [
        "## Recommending products"
      ]
    },
    {
      "cell_type": "code",
      "metadata": {
        "id": "ZZ0MEl9D6WuP",
        "colab_type": "code",
        "colab": {}
      },
      "source": [
        "id_prod = {}\n",
        "for num in set(dataset['product_idx']):\n",
        "    d = dataset[dataset['product_idx'] == num]\n",
        "    prod_name = list(set(d['product_name']))[0]\n",
        "    id_prod[num] = prod_name\n",
        "id_prod"
      ],
      "execution_count": null,
      "outputs": []
    },
    {
      "cell_type": "code",
      "metadata": {
        "id": "SrcVL-tX7ILw",
        "colab_type": "code",
        "colab": {}
      },
      "source": [
        "recs = []\n",
        "for num in recommendedproducts:\n",
        "    recs.append(id_prod[num])"
      ],
      "execution_count": 13,
      "outputs": []
    },
    {
      "cell_type": "code",
      "metadata": {
        "id": "civgseIz987y",
        "colab_type": "code",
        "colab": {
          "base_uri": "https://localhost:8080/",
          "height": 88
        },
        "outputId": "810299d6-554a-4509-d4af-a2b636de82f9"
      },
      "source": [
        "# print(\"Showing recommendations for user: {}\".format(userdata))\n",
        "print('Top recommended products')\n",
        "print('------------------------')\n",
        "print(recs)"
      ],
      "execution_count": 14,
      "outputs": [
        {
          "output_type": "stream",
          "text": [
            "Top recommended products\n",
            "------------------------\n",
            "['Cerave SPF 30', 'flax', 'cosrx 96 snail mucin', 'isopropyl palmitate', 'eucalyptus oil', 'shea butter', 'Watermelon Glow Sleeping Mask', 'azulene']\n"
          ],
          "name": "stdout"
        }
      ]
    },
    {
      "cell_type": "code",
      "metadata": {
        "id": "-XhWJssvNlP8",
        "colab_type": "code",
        "colab": {}
      },
      "source": [
        ""
      ],
      "execution_count": null,
      "outputs": []
    },
    {
      "cell_type": "code",
      "metadata": {
        "id": "ELPSSKKrN2q_",
        "colab_type": "code",
        "colab": {}
      },
      "source": [
        ""
      ],
      "execution_count": null,
      "outputs": []
    }
  ]
}